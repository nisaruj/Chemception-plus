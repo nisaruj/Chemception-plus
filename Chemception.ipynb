{
  "nbformat": 4,
  "nbformat_minor": 0,
  "metadata": {
    "colab": {
      "name": "Chemception.ipynb",
      "provenance": [],
      "collapsed_sections": [],
      "mount_file_id": "13nsipqhfRbIkW7hoKsXR1jC9pQ1sDzRB",
      "authorship_tag": "ABX9TyMQsI/+NWcRuNNNGRdtiFBr",
      "include_colab_link": true
    },
    "kernelspec": {
      "name": "python3",
      "display_name": "Python 3"
    }
  },
  "cells": [
    {
      "cell_type": "markdown",
      "metadata": {
        "id": "view-in-github",
        "colab_type": "text"
      },
      "source": [
        "<a href=\"https://colab.research.google.com/github/nisaruj/Chemception-plus/blob/master/Chemception.ipynb\" target=\"_parent\"><img src=\"https://colab.research.google.com/assets/colab-badge.svg\" alt=\"Open In Colab\"/></a>"
      ]
    },
    {
      "cell_type": "markdown",
      "metadata": {
        "id": "Si4gvo6lcBWL",
        "colab_type": "text"
      },
      "source": [
        "## Setup"
      ]
    },
    {
      "cell_type": "markdown",
      "metadata": {
        "id": "B11wZw9zcJNP",
        "colab_type": "text"
      },
      "source": [
        "### Install packages"
      ]
    },
    {
      "cell_type": "code",
      "metadata": {
        "id": "bOgMHdLQ_8bO",
        "colab_type": "code",
        "colab": {}
      },
      "source": [
        "!pip install -q pubchempy imblearn"
      ],
      "execution_count": 2,
      "outputs": []
    },
    {
      "cell_type": "code",
      "metadata": {
        "id": "yg70wA5pCghD",
        "colab_type": "code",
        "colab": {}
      },
      "source": [
        "%%capture\n",
        "!wget -c https://repo.continuum.io/miniconda/Miniconda3-py37_4.8.3-Linux-x86_64.sh\n",
        "!chmod +x Miniconda3-py37_4.8.3-Linux-x86_64.sh\n",
        "!time bash ./Miniconda3-py37_4.8.3-Linux-x86_64.sh -b -f -p /usr/local \n",
        "!time conda install -q -y -c conda-forge rdkit\n",
        "\n",
        "import sys\n",
        "sys.path.append('/usr/local/lib/python3.7/site-packages/')"
      ],
      "execution_count": 3,
      "outputs": []
    },
    {
      "cell_type": "markdown",
      "metadata": {
        "id": "R6CGO2bnlxDp",
        "colab_type": "text"
      },
      "source": [
        "### Import mapping data"
      ]
    },
    {
      "cell_type": "code",
      "metadata": {
        "id": "fJ6KcxaXle7G",
        "colab_type": "code",
        "colab": {}
      },
      "source": [
        "!wget -q https://github.com/nisaruj/Chemception-plus/raw/master/data/nsc_smiles.pickle"
      ],
      "execution_count": 4,
      "outputs": []
    },
    {
      "cell_type": "code",
      "metadata": {
        "id": "IwoiuEeElzLh",
        "colab_type": "code",
        "colab": {}
      },
      "source": [
        "# !cp drive/My\\ Drive/BIOINFO/nsc_smiles.pickle ./nsc_smiles.pickle"
      ],
      "execution_count": 5,
      "outputs": []
    },
    {
      "cell_type": "markdown",
      "metadata": {
        "id": "zQenE3DilcAp",
        "colab_type": "text"
      },
      "source": [
        "### Import dataset"
      ]
    },
    {
      "cell_type": "code",
      "metadata": {
        "id": "reDjUOEtld7Q",
        "colab_type": "code",
        "colab": {}
      },
      "source": [
        "!wget -q -O dataset.csv https://raw.githubusercontent.com/nisaruj/Chemception-plus/master/data/aids_conc_may04.csv"
      ],
      "execution_count": 6,
      "outputs": []
    },
    {
      "cell_type": "code",
      "metadata": {
        "id": "_6oK0uVsnOt7",
        "colab_type": "code",
        "colab": {}
      },
      "source": [
        "# !cp drive/My\\ Drive/BIOINFO/aids_conc_may04.txt ./dataset.csv\n",
        "# Trim whitespaces from dataset file\n",
        "# !sed -r \"s/[ \\t]//g\" dataset.csv > out.csv\n",
        "# !mv out.csv dataset.csv"
      ],
      "execution_count": 7,
      "outputs": []
    },
    {
      "cell_type": "markdown",
      "metadata": {
        "id": "eqMUvyuxJczI",
        "colab_type": "text"
      },
      "source": [
        "## Preprocess\n",
        "\n",
        "CNN requires 2D matrix so we need to convert NSC id -> -> SMILES -> 2D grid image"
      ]
    },
    {
      "cell_type": "markdown",
      "metadata": {
        "id": "Dehkw2AsmGFs",
        "colab_type": "text"
      },
      "source": [
        "### Visualize dataset\n",
        "\n",
        "* CA - Confirmed active\n",
        "* CM - Confirmed moderately active\n",
        "* CI - Confirmed inactive"
      ]
    },
    {
      "cell_type": "code",
      "metadata": {
        "id": "CP_vxjG_mLl-",
        "colab_type": "code",
        "colab": {
          "base_uri": "https://localhost:8080/",
          "height": 204
        },
        "outputId": "47e92b0a-2863-4aec-95f6-9773cdc849ed"
      },
      "source": [
        "import pandas as pd\n",
        "\n",
        "data = pd.read_csv(\"dataset.csv\")\n",
        "data.head(5)"
      ],
      "execution_count": 8,
      "outputs": [
        {
          "output_type": "execute_result",
          "data": {
            "text/html": [
              "<div>\n",
              "<style scoped>\n",
              "    .dataframe tbody tr th:only-of-type {\n",
              "        vertical-align: middle;\n",
              "    }\n",
              "\n",
              "    .dataframe tbody tr th {\n",
              "        vertical-align: top;\n",
              "    }\n",
              "\n",
              "    .dataframe thead th {\n",
              "        text-align: right;\n",
              "    }\n",
              "</style>\n",
              "<table border=\"1\" class=\"dataframe\">\n",
              "  <thead>\n",
              "    <tr style=\"text-align: right;\">\n",
              "      <th></th>\n",
              "      <th>NSC</th>\n",
              "      <th>Conclusion</th>\n",
              "    </tr>\n",
              "  </thead>\n",
              "  <tbody>\n",
              "    <tr>\n",
              "      <th>0</th>\n",
              "      <td>48</td>\n",
              "      <td>CI</td>\n",
              "    </tr>\n",
              "    <tr>\n",
              "      <th>1</th>\n",
              "      <td>78</td>\n",
              "      <td>CI</td>\n",
              "    </tr>\n",
              "    <tr>\n",
              "      <th>2</th>\n",
              "      <td>128</td>\n",
              "      <td>CI</td>\n",
              "    </tr>\n",
              "    <tr>\n",
              "      <th>3</th>\n",
              "      <td>163</td>\n",
              "      <td>CI</td>\n",
              "    </tr>\n",
              "    <tr>\n",
              "      <th>4</th>\n",
              "      <td>164</td>\n",
              "      <td>CI</td>\n",
              "    </tr>\n",
              "  </tbody>\n",
              "</table>\n",
              "</div>"
            ],
            "text/plain": [
              "   NSC Conclusion\n",
              "0   48         CI\n",
              "1   78         CI\n",
              "2  128         CI\n",
              "3  163         CI\n",
              "4  164         CI"
            ]
          },
          "metadata": {
            "tags": []
          },
          "execution_count": 8
        }
      ]
    },
    {
      "cell_type": "markdown",
      "metadata": {
        "id": "iciKDfKDcV18",
        "colab_type": "text"
      },
      "source": [
        "We use NSC dataset which uses an internal id to identify a molecule so we need to create a mapping that converts NSC id to SMILES.\n",
        "\n",
        "We can use PubChem api to retrieve smiles from NSC id"
      ]
    },
    {
      "cell_type": "code",
      "metadata": {
        "id": "yFRAFQS72I4P",
        "colab_type": "code",
        "colab": {
          "base_uri": "https://localhost:8080/",
          "height": 71
        },
        "outputId": "de2f6a80-726c-4756-95ad-d582d061e292"
      },
      "source": [
        "import pubchempy as pcp\n",
        "pcp.get_properties(['IsomericSMILES', 'CanonicalSMILES'], 'NSC170', 'name')"
      ],
      "execution_count": 9,
      "outputs": [
        {
          "output_type": "execute_result",
          "data": {
            "text/plain": [
              "[{'CID': 219201,\n",
              "  'CanonicalSMILES': 'CCOP(=O)(NC1=CC(=CC=C1)Cl)OCC',\n",
              "  'IsomericSMILES': 'CCOP(=O)(NC1=CC(=CC=C1)Cl)OCC'}]"
            ]
          },
          "metadata": {
            "tags": []
          },
          "execution_count": 9
        }
      ]
    },
    {
      "cell_type": "code",
      "metadata": {
        "id": "AvU7OJh73OWt",
        "colab_type": "code",
        "colab": {}
      },
      "source": [
        "# from progressbar import progressbar\n",
        "\n",
        "# NSC2SMILES = {}\n",
        "# start_from = 722245\n",
        "# for compound_id in progressbar(data['NSC']):\n",
        "#   if compound_id in NSC2SMILES:\n",
        "#     continue\n",
        "#   if compound_id < start_from:\n",
        "#     continue\n",
        "#   props = pcp.get_properties(['IsomericSMILES', 'CanonicalSMILES'], 'NSC' + str(compound_id), 'name')\n",
        "#   if len(props) > 0:\n",
        "#     NSC2SMILES[compound_id] = props[0]"
      ],
      "execution_count": 10,
      "outputs": []
    },
    {
      "cell_type": "code",
      "metadata": {
        "id": "0aefip3n7zJ2",
        "colab_type": "code",
        "colab": {}
      },
      "source": [
        "# import pickle\n",
        "\n",
        "# with open('nsc_smiles.pickle', 'wb') as handle:\n",
        "#     pickle.dump(NSC2SMILES, handle, protocol=pickle.HIGHEST_PROTOCOL)"
      ],
      "execution_count": 11,
      "outputs": []
    },
    {
      "cell_type": "code",
      "metadata": {
        "id": "IOPfIE2GlFyX",
        "colab_type": "code",
        "colab": {
          "base_uri": "https://localhost:8080/",
          "height": 35
        },
        "outputId": "fc3dcf0b-72cf-4741-b816-d0889901242d"
      },
      "source": [
        "import pickle\n",
        "\n",
        "with open('nsc_smiles.pickle', 'rb') as fp:\n",
        "  NSC2SMILES = pickle.load(fp)\n",
        "  \n",
        "len(NSC2SMILES)"
      ],
      "execution_count": 12,
      "outputs": [
        {
          "output_type": "execute_result",
          "data": {
            "text/plain": [
              "42407"
            ]
          },
          "metadata": {
            "tags": []
          },
          "execution_count": 12
        }
      ]
    },
    {
      "cell_type": "code",
      "metadata": {
        "id": "NoCMBYfAmrES",
        "colab_type": "code",
        "colab": {
          "base_uri": "https://localhost:8080/",
          "height": 71
        },
        "outputId": "54cbd4e2-e176-41e5-a842-2e534ff3a712"
      },
      "source": [
        "NSC2SMILES[7816]"
      ],
      "execution_count": 13,
      "outputs": [
        {
          "output_type": "execute_result",
          "data": {
            "text/plain": [
              "{'CID': 73120,\n",
              " 'CanonicalSMILES': 'C1=CC=C2C(=C1)C(OS2(=O)=O)(C3=CC(=C(C(=C3)Br)O)Cl)C4=CC(=C(C(=C4)Br)O)Cl',\n",
              " 'IsomericSMILES': 'C1=CC=C2C(=C1)C(OS2(=O)=O)(C3=CC(=C(C(=C3)Br)O)Cl)C4=CC(=C(C(=C4)Br)O)Cl'}"
            ]
          },
          "metadata": {
            "tags": []
          },
          "execution_count": 13
        }
      ]
    },
    {
      "cell_type": "markdown",
      "metadata": {
        "id": "bxDO0gRFooU8",
        "colab_type": "text"
      },
      "source": [
        "We remove the data that isn't compound (ie. substance)."
      ]
    },
    {
      "cell_type": "code",
      "metadata": {
        "id": "KCe-FsqooEH0",
        "colab_type": "code",
        "colab": {}
      },
      "source": [
        "data['is_compound'] = data['NSC'].isin(NSC2SMILES)\n",
        "data = data[data['is_compound'] == True]"
      ],
      "execution_count": 14,
      "outputs": []
    },
    {
      "cell_type": "markdown",
      "metadata": {
        "id": "gDj7XhOJqq9Q",
        "colab_type": "text"
      },
      "source": [
        "Like the paper, the problem was reduced to binary classification by setting CI to 0 and CM/CA to 1."
      ]
    },
    {
      "cell_type": "code",
      "metadata": {
        "id": "RFQZqFyKqfaY",
        "colab_type": "code",
        "colab": {
          "base_uri": "https://localhost:8080/",
          "height": 204
        },
        "outputId": "c3133c3e-a5ee-42d0-d110-40f9ca2a8ee6"
      },
      "source": [
        "data['active'] = data['Conclusion'].isin(['CM', 'CA'])\n",
        "data.head(5)"
      ],
      "execution_count": 15,
      "outputs": [
        {
          "output_type": "execute_result",
          "data": {
            "text/html": [
              "<div>\n",
              "<style scoped>\n",
              "    .dataframe tbody tr th:only-of-type {\n",
              "        vertical-align: middle;\n",
              "    }\n",
              "\n",
              "    .dataframe tbody tr th {\n",
              "        vertical-align: top;\n",
              "    }\n",
              "\n",
              "    .dataframe thead th {\n",
              "        text-align: right;\n",
              "    }\n",
              "</style>\n",
              "<table border=\"1\" class=\"dataframe\">\n",
              "  <thead>\n",
              "    <tr style=\"text-align: right;\">\n",
              "      <th></th>\n",
              "      <th>NSC</th>\n",
              "      <th>Conclusion</th>\n",
              "      <th>is_compound</th>\n",
              "      <th>active</th>\n",
              "    </tr>\n",
              "  </thead>\n",
              "  <tbody>\n",
              "    <tr>\n",
              "      <th>2</th>\n",
              "      <td>128</td>\n",
              "      <td>CI</td>\n",
              "      <td>True</td>\n",
              "      <td>False</td>\n",
              "    </tr>\n",
              "    <tr>\n",
              "      <th>3</th>\n",
              "      <td>163</td>\n",
              "      <td>CI</td>\n",
              "      <td>True</td>\n",
              "      <td>False</td>\n",
              "    </tr>\n",
              "    <tr>\n",
              "      <th>4</th>\n",
              "      <td>164</td>\n",
              "      <td>CI</td>\n",
              "      <td>True</td>\n",
              "      <td>False</td>\n",
              "    </tr>\n",
              "    <tr>\n",
              "      <th>5</th>\n",
              "      <td>170</td>\n",
              "      <td>CI</td>\n",
              "      <td>True</td>\n",
              "      <td>False</td>\n",
              "    </tr>\n",
              "    <tr>\n",
              "      <th>6</th>\n",
              "      <td>180</td>\n",
              "      <td>CI</td>\n",
              "      <td>True</td>\n",
              "      <td>False</td>\n",
              "    </tr>\n",
              "  </tbody>\n",
              "</table>\n",
              "</div>"
            ],
            "text/plain": [
              "   NSC Conclusion  is_compound  active\n",
              "2  128         CI         True   False\n",
              "3  163         CI         True   False\n",
              "4  164         CI         True   False\n",
              "5  170         CI         True   False\n",
              "6  180         CI         True   False"
            ]
          },
          "metadata": {
            "tags": []
          },
          "execution_count": 15
        }
      ]
    },
    {
      "cell_type": "code",
      "metadata": {
        "id": "RmvTcLj4o-hX",
        "colab_type": "code",
        "colab": {
          "base_uri": "https://localhost:8080/",
          "height": 299
        },
        "outputId": "132110d3-33a5-4061-b21f-70dcafff40aa"
      },
      "source": [
        "from collections import Counter\n",
        "print(Counter(data['active']))\n",
        "\n",
        "data['active'].value_counts().plot(kind='bar');"
      ],
      "execution_count": 16,
      "outputs": [
        {
          "output_type": "stream",
          "text": [
            "Counter({False: 40859, True: 1548})\n"
          ],
          "name": "stdout"
        },
        {
          "output_type": "display_data",
          "data": {
            "image/png": "[encoded data removed]",
            "text/plain": [
              "<Figure size 432x288 with 1 Axes>"
            ]
          },
          "metadata": {
            "tags": [],
            "needs_background": "light"
          }
        }
      ]
    },
    {
      "cell_type": "markdown",
      "metadata": {
        "id": "Q3mJ1BGZ24IZ",
        "colab_type": "text"
      },
      "source": [
        "### Chemcepterize NSC compound"
      ]
    },
    {
      "cell_type": "markdown",
      "metadata": {
        "id": "DimZ-bcMe0tA",
        "colab_type": "text"
      },
      "source": [
        "`chemcepterizeFromNsc` converts a molecule into a color-coded grid image."
      ]
    },
    {
      "cell_type": "code",
      "metadata": {
        "id": "G8VbKMCwCHCo",
        "colab_type": "code",
        "colab": {}
      },
      "source": [
        "from rdkit import Chem\n",
        "from rdkit.Chem import Draw\n",
        "import numpy as np\n",
        "import matplotlib.pyplot as plt\n",
        "%matplotlib inline\n",
        "\n",
        "def molFromNsc(nsc):\n",
        "  return Chem.MolFromSmiles(NSC2SMILES[nsc]['IsomericSMILES'])\n",
        "\n",
        "def drawFromNsc(nsc):\n",
        "  Draw.MolToMPL(molFromNsc(nsc), size=(100, 100))\n",
        "\n",
        "'''\n",
        "https://www.cheminformania.com/learn-how-to-teach-your-computer-to-see-chemistry-free-chemception-models-with-rdkit-and-keras/\n",
        "Note that the code above uses 4 channel image but the paper uses only 1 channel (greyscale).\n",
        "\n",
        "@param embed\n",
        "@param res - Resolution of each pixel (Å)\n",
        "'''\n",
        "def chemcepterizeFromNsc(nsc, embed=20.0, res=0.5):\n",
        "    mol = molFromNsc(nsc)\n",
        "    dims = int(embed*2/res)\n",
        "    cmol = Chem.Mol(mol.ToBinary())\n",
        "    cmol.ComputeGasteigerCharges()\n",
        "    Chem.AllChem.Compute2DCoords(cmol)\n",
        "    coords = cmol.GetConformer(0).GetPositions()\n",
        "    # vect = np.zeros((dims,dims,4))\n",
        "    vect = np.zeros((dims,dims,1))\n",
        "    #Bonds first\n",
        "    for i,bond in enumerate(mol.GetBonds()):\n",
        "        bondorder = bond.GetBondTypeAsDouble()\n",
        "        bidx = bond.GetBeginAtomIdx()\n",
        "        eidx = bond.GetEndAtomIdx()\n",
        "        bcoords = coords[bidx]\n",
        "        ecoords = coords[eidx]\n",
        "        frac = np.linspace(0,1,int(1/res*2))\n",
        "        for f in frac:\n",
        "            c = (f*bcoords + (1-f)*ecoords)\n",
        "            idx = int(round((c[0] + embed)/res))\n",
        "            idy = int(round((c[1]+ embed)/res))\n",
        "            #Save in the vector first channel\n",
        "            # vect[ idx , idy ,0] = bondorder\n",
        "            vect[idx , idy, 0] = 2\n",
        "    #Atom Layers\n",
        "    for i,atom in enumerate(cmol.GetAtoms()):\n",
        "            idx = int(round((coords[i][0] + embed)/res))\n",
        "            idy = int(round((coords[i][1]+ embed)/res))\n",
        "            #Atomic number\n",
        "            # vect[ idx , idy, 1] = atom.GetAtomicNum()\n",
        "            vect[idx , idy, 0] = atom.GetAtomicNum()\n",
        "            #Gasteiger Charges\n",
        "            # charge = atom.GetProp(\"_GasteigerCharge\")\n",
        "            # vect[ idx , idy, 3] = charge\n",
        "            #Hybridization\n",
        "            # hyptype = atom.GetHybridization().real\n",
        "            # vect[ idx , idy, 2] = hyptype\n",
        "    return vect\n",
        "\n",
        "def drawChemceptionVector(v):\n",
        "  plt.imshow(v[:,:,0])\n",
        "\n",
        "def drawChemceptionFromNsc(nsc, embed=20.0, res=0.5):\n",
        "  v = chemcepterizeFromNsc(nsc, embed=embed, res=res)\n",
        "  drawChemceptionVector(v)"
      ],
      "execution_count": 71,
      "outputs": []
    },
    {
      "cell_type": "code",
      "metadata": {
        "id": "7iaNdCyVI-eu",
        "colab_type": "code",
        "colab": {
          "base_uri": "https://localhost:8080/",
          "height": 214
        },
        "outputId": "5d510a7a-3635-4779-d8b7-4d2a4a18f8a0"
      },
      "source": [
        "drawFromNsc(7816)"
      ],
      "execution_count": 72,
      "outputs": [
        {
          "output_type": "display_data",
          "data": {
            "image/png": "[encoded data removed]",
            "text/plain": [
              "<Figure size 72x72 with 1 Axes>"
            ]
          },
          "metadata": {
            "tags": [],
            "needs_background": "light"
          }
        }
      ]
    },
    {
      "cell_type": "code",
      "metadata": {
        "id": "JvcCcaZPJRZy",
        "colab_type": "code",
        "colab": {
          "base_uri": "https://localhost:8080/",
          "height": 285
        },
        "outputId": "a4fec262-e67d-4354-9b7a-9a2b5cdeb23e"
      },
      "source": [
        "v = chemcepterizeFromNsc(7816, embed=10)\n",
        "print(v.shape)\n",
        "drawChemceptionFromNsc(7816, embed=10)"
      ],
      "execution_count": 73,
      "outputs": [
        {
          "output_type": "stream",
          "text": [
            "(40, 40, 1)\n"
          ],
          "name": "stdout"
        },
        {
          "output_type": "display_data",
          "data": {
            "image/png": "[encoded data removed]",
            "text/plain": [
              "<Figure size 432x288 with 1 Axes>"
            ]
          },
          "metadata": {
            "tags": [],
            "needs_background": "light"
          }
        }
      ]
    },
    {
      "cell_type": "code",
      "metadata": {
        "id": "MYrqiVbsDKej",
        "colab_type": "code",
        "colab": {
          "base_uri": "https://localhost:8080/",
          "height": 268
        },
        "outputId": "4b89922e-e20f-4caf-83b7-886efc0b0ef0"
      },
      "source": [
        "drawChemceptionFromNsc(220, embed=30)"
      ],
      "execution_count": 74,
      "outputs": [
        {
          "output_type": "display_data",
          "data": {
            "image/png": "[encoded data removed]",
            "text/plain": [
              "<Figure size 432x288 with 1 Axes>"
            ]
          },
          "metadata": {
            "tags": [],
            "needs_background": "light"
          }
        }
      ]
    },
    {
      "cell_type": "markdown",
      "metadata": {
        "id": "NAvYX3muvOm4",
        "colab_type": "text"
      },
      "source": [
        "### Preprocess data"
      ]
    },
    {
      "cell_type": "code",
      "metadata": {
        "id": "cTK14fE1Bqxq",
        "colab_type": "code",
        "colab": {
          "base_uri": "https://localhost:8080/",
          "height": 35
        },
        "outputId": "7fb0ec4d-d3fb-4a63-efd0-1f185d9d1fc5"
      },
      "source": [
        "import numpy as np\n",
        "from progressbar import progressbar\n",
        "\n",
        "data_X = []\n",
        "data_y = []\n",
        "\n",
        "for idx, row in progressbar(data.iterrows()):\n",
        "  try:\n",
        "    img = chemcepterizeFromNsc(row['NSC'], embed=20)\n",
        "    data_X.append(img)\n",
        "    data_y.append(row['active'])\n",
        "  except:\n",
        "    # Remove bad data (eg. out of bound)\n",
        "    pass\n",
        "\n",
        "data_X = np.array(data_X)\n",
        "data_y = np.array(data_y)"
      ],
      "execution_count": 78,
      "outputs": [
        {
          "output_type": "stream",
          "text": [
            "| |      #                                        | 42406 Elapsed Time: 0:03:46\n"
          ],
          "name": "stderr"
        }
      ]
    },
    {
      "cell_type": "code",
      "metadata": {
        "id": "phKhzLNVQ6jT",
        "colab_type": "code",
        "colab": {
          "base_uri": "https://localhost:8080/",
          "height": 53
        },
        "outputId": "72f0fe63-a3e4-4f07-b1e8-42077cd06a56"
      },
      "source": [
        "print(data_X.shape)\n",
        "print(data_y.shape)"
      ],
      "execution_count": 86,
      "outputs": [
        {
          "output_type": "stream",
          "text": [
            "(42228, 80, 80, 1)\n",
            "(42228,)\n"
          ],
          "name": "stdout"
        }
      ]
    },
    {
      "cell_type": "markdown",
      "metadata": {
        "id": "RalrHyiwwySd",
        "colab_type": "text"
      },
      "source": [
        "Stratify and do random over-sampling the data"
      ]
    },
    {
      "cell_type": "code",
      "metadata": {
        "id": "6igJg-Gbzq8P",
        "colab_type": "code",
        "colab": {
          "base_uri": "https://localhost:8080/",
          "height": 53
        },
        "outputId": "b0ac5a79-6232-4395-a891-7e5b616047e8"
      },
      "source": [
        "from sklearn.model_selection import train_test_split\n",
        "\n",
        "X_train, X_test, y_train, y_test = train_test_split(data_X, data_y, stratify=data_y, test_size=1/6)\n",
        "\n",
        "print(len(X_train), len(X_test), len(y_train), len(y_test))\n",
        "print(Counter(y_train), Counter(y_test))"
      ],
      "execution_count": 84,
      "outputs": [
        {
          "output_type": "stream",
          "text": [
            "35190 7038 35190 7038\n",
            "Counter({False: 33927, True: 1263}) Counter({False: 6786, True: 252})\n"
          ],
          "name": "stdout"
        }
      ]
    }
  ]
}