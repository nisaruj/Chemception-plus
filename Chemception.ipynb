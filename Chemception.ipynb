{
  "nbformat": 4,
  "nbformat_minor": 0,
  "metadata": {
    "colab": {
      "name": "Chemception.ipynb",
      "provenance": [],
      "collapsed_sections": [],
      "toc_visible": true,
      "mount_file_id": "13nsipqhfRbIkW7hoKsXR1jC9pQ1sDzRB",
      "authorship_tag": "ABX9TyMn+2VwtTVu7l69fer6AVcN",
      "include_colab_link": true
    },
    "kernelspec": {
      "name": "python3",
      "display_name": "Python 3"
    }
  },
  "cells": [
    {
      "cell_type": "markdown",
      "metadata": {
        "id": "view-in-github",
        "colab_type": "text"
      },
      "source": [
        "<a href=\"https://colab.research.google.com/github/nisaruj/Chemception-plus/blob/master/Chemception.ipynb\" target=\"_parent\"><img src=\"https://colab.research.google.com/assets/colab-badge.svg\" alt=\"Open In Colab\"/></a>"
      ]
    },
    {
      "cell_type": "markdown",
      "metadata": {
        "id": "Si4gvo6lcBWL"
      },
      "source": [
        "## Setup"
      ]
    },
    {
      "cell_type": "markdown",
      "metadata": {
        "id": "B11wZw9zcJNP"
      },
      "source": [
        "### Install packages"
      ]
    },
    {
      "cell_type": "code",
      "metadata": {
        "id": "bOgMHdLQ_8bO",
        "outputId": "ae428ec0-5172-4337-a364-50b8e86d76e9",
        "colab": {
          "base_uri": "https://localhost:8080/",
          "height": 34
        }
      },
      "source": [
        "!pip install -q pubchempy"
      ],
      "execution_count": null,
      "outputs": [
        {
          "output_type": "stream",
          "text": [
            "  Building wheel for pubchempy (setup.py) ... \u001b[?25l\u001b[?25hdone\n"
          ],
          "name": "stdout"
        }
      ]
    },
    {
      "cell_type": "code",
      "metadata": {
        "id": "sW4x55358-2N",
        "outputId": "8f447098-642c-413b-db84-14ad622fff7b",
        "colab": {
          "base_uri": "https://localhost:8080/",
          "height": 34
        }
      },
      "source": [
        "!pip install -q image-classifiers"
      ],
      "execution_count": null,
      "outputs": [
        {
          "output_type": "stream",
          "text": [
            "\u001b[?25l\r\u001b[K     |██████▌                         | 10kB 23.4MB/s eta 0:00:01\r\u001b[K     |█████████████                   | 20kB 16.0MB/s eta 0:00:01\r\u001b[K     |███████████████████▍            | 30kB 2.7MB/s eta 0:00:01\r\u001b[K     |█████████████████████████▉      | 40kB 3.2MB/s eta 0:00:01\r\u001b[K     |████████████████████████████████| 51kB 2.0MB/s \n",
            "\u001b[?25h"
          ],
          "name": "stdout"
        }
      ]
    },
    {
      "cell_type": "code",
      "metadata": {
        "id": "yg70wA5pCghD"
      },
      "source": [
        "%%capture\n",
        "!wget -c https://repo.continuum.io/miniconda/Miniconda3-py37_4.8.3-Linux-x86_64.sh\n",
        "!chmod +x Miniconda3-py37_4.8.3-Linux-x86_64.sh\n",
        "!time bash ./Miniconda3-py37_4.8.3-Linux-x86_64.sh -b -f -p /usr/local \n",
        "!time conda install -q -y -c conda-forge rdkit\n",
        "\n",
        "import sys\n",
        "sys.path.append('/usr/local/lib/python3.7/site-packages/')"
      ],
      "execution_count": null,
      "outputs": []
    },
    {
      "cell_type": "markdown",
      "metadata": {
        "id": "R6CGO2bnlxDp"
      },
      "source": [
        "### Import mapping data"
      ]
    },
    {
      "cell_type": "code",
      "metadata": {
        "id": "fJ6KcxaXle7G"
      },
      "source": [
        "!wget -q https://github.com/nisaruj/Chemception-plus/raw/master/data/nsc_smiles.pickle"
      ],
      "execution_count": null,
      "outputs": []
    },
    {
      "cell_type": "code",
      "metadata": {
        "id": "IwoiuEeElzLh"
      },
      "source": [
        "# !cp drive/My\\ Drive/BIOINFO/nsc_smiles.pickle ./nsc_smiles.pickle"
      ],
      "execution_count": null,
      "outputs": []
    },
    {
      "cell_type": "markdown",
      "metadata": {
        "id": "zQenE3DilcAp"
      },
      "source": [
        "### Import dataset"
      ]
    },
    {
      "cell_type": "code",
      "metadata": {
        "id": "reDjUOEtld7Q"
      },
      "source": [
        "!wget -q -O dataset.csv https://raw.githubusercontent.com/nisaruj/Chemception-plus/master/data/aids_conc_may04.csv"
      ],
      "execution_count": null,
      "outputs": []
    },
    {
      "cell_type": "code",
      "metadata": {
        "id": "_6oK0uVsnOt7"
      },
      "source": [
        "# !cp drive/My\\ Drive/BIOINFO/aids_conc_may04.txt ./dataset.csv\n",
        "# Trim whitespaces from dataset file\n",
        "# !sed -r \"s/[ \\t]//g\" dataset.csv > out.csv\n",
        "# !mv out.csv dataset.csv"
      ],
      "execution_count": null,
      "outputs": []
    },
    {
      "cell_type": "markdown",
      "metadata": {
        "id": "eqMUvyuxJczI"
      },
      "source": [
        "## Preprocess\n",
        "\n",
        "CNN requires 2D matrix so we need to convert NSC id -> -> SMILES -> 2D grid image"
      ]
    },
    {
      "cell_type": "markdown",
      "metadata": {
        "id": "Dehkw2AsmGFs"
      },
      "source": [
        "### Visualize dataset\n",
        "\n",
        "* CA - Confirmed active\n",
        "* CM - Confirmed moderately active\n",
        "* CI - Confirmed inactive"
      ]
    },
    {
      "cell_type": "code",
      "metadata": {
        "id": "CP_vxjG_mLl-",
        "outputId": "0e3876af-ecc7-46f6-b93b-670c42d25a51",
        "colab": {
          "base_uri": "https://localhost:8080/",
          "height": 204
        }
      },
      "source": [
        "import pandas as pd\n",
        "\n",
        "data = pd.read_csv(\"dataset.csv\")\n",
        "data.head(5)"
      ],
      "execution_count": null,
      "outputs": [
        {
          "output_type": "execute_result",
          "data": {
            "text/html": [
              "<div>\n",
              "<style scoped>\n",
              "    .dataframe tbody tr th:only-of-type {\n",
              "        vertical-align: middle;\n",
              "    }\n",
              "\n",
              "    .dataframe tbody tr th {\n",
              "        vertical-align: top;\n",
              "    }\n",
              "\n",
              "    .dataframe thead th {\n",
              "        text-align: right;\n",
              "    }\n",
              "</style>\n",
              "<table border=\"1\" class=\"dataframe\">\n",
              "  <thead>\n",
              "    <tr style=\"text-align: right;\">\n",
              "      <th></th>\n",
              "      <th>NSC</th>\n",
              "      <th>Conclusion</th>\n",
              "    </tr>\n",
              "  </thead>\n",
              "  <tbody>\n",
              "    <tr>\n",
              "      <th>0</th>\n",
              "      <td>48</td>\n",
              "      <td>CI</td>\n",
              "    </tr>\n",
              "    <tr>\n",
              "      <th>1</th>\n",
              "      <td>78</td>\n",
              "      <td>CI</td>\n",
              "    </tr>\n",
              "    <tr>\n",
              "      <th>2</th>\n",
              "      <td>128</td>\n",
              "      <td>CI</td>\n",
              "    </tr>\n",
              "    <tr>\n",
              "      <th>3</th>\n",
              "      <td>163</td>\n",
              "      <td>CI</td>\n",
              "    </tr>\n",
              "    <tr>\n",
              "      <th>4</th>\n",
              "      <td>164</td>\n",
              "      <td>CI</td>\n",
              "    </tr>\n",
              "  </tbody>\n",
              "</table>\n",
              "</div>"
            ],
            "text/plain": [
              "   NSC Conclusion\n",
              "0   48         CI\n",
              "1   78         CI\n",
              "2  128         CI\n",
              "3  163         CI\n",
              "4  164         CI"
            ]
          },
          "metadata": {
            "tags": []
          },
          "execution_count": 8
        }
      ]
    },
    {
      "cell_type": "markdown",
      "metadata": {
        "id": "iciKDfKDcV18"
      },
      "source": [
        "We use NSC dataset which uses an internal id to identify a molecule so we need to create a mapping that converts NSC id to SMILES.\n",
        "\n",
        "We can use PubChem api to retrieve smiles from NSC id"
      ]
    },
    {
      "cell_type": "code",
      "metadata": {
        "id": "yFRAFQS72I4P",
        "outputId": "8db76657-e6ee-4dc0-93b0-ad0b1d70f9d8",
        "colab": {
          "base_uri": "https://localhost:8080/",
          "height": 68
        }
      },
      "source": [
        "import pubchempy as pcp\n",
        "pcp.get_properties(['IsomericSMILES', 'CanonicalSMILES'], 'NSC170', 'name')"
      ],
      "execution_count": null,
      "outputs": [
        {
          "output_type": "execute_result",
          "data": {
            "text/plain": [
              "[{'CID': 219201,\n",
              "  'CanonicalSMILES': 'CCOP(=O)(NC1=CC(=CC=C1)Cl)OCC',\n",
              "  'IsomericSMILES': 'CCOP(=O)(NC1=CC(=CC=C1)Cl)OCC'}]"
            ]
          },
          "metadata": {
            "tags": []
          },
          "execution_count": 9
        }
      ]
    },
    {
      "cell_type": "code",
      "metadata": {
        "id": "AvU7OJh73OWt"
      },
      "source": [
        "# from progressbar import progressbar\n",
        "\n",
        "# NSC2SMILES = {}\n",
        "# start_from = 722245\n",
        "# for compound_id in progressbar(data['NSC']):\n",
        "#   if compound_id in NSC2SMILES:\n",
        "#     continue\n",
        "#   if compound_id < start_from:\n",
        "#     continue\n",
        "#   props = pcp.get_properties(['IsomericSMILES', 'CanonicalSMILES'], 'NSC' + str(compound_id), 'name')\n",
        "#   if len(props) > 0:\n",
        "#     NSC2SMILES[compound_id] = props[0]"
      ],
      "execution_count": null,
      "outputs": []
    },
    {
      "cell_type": "code",
      "metadata": {
        "id": "0aefip3n7zJ2"
      },
      "source": [
        "# import pickle\n",
        "\n",
        "# with open('nsc_smiles.pickle', 'wb') as handle:\n",
        "#     pickle.dump(NSC2SMILES, handle, protocol=pickle.HIGHEST_PROTOCOL)"
      ],
      "execution_count": null,
      "outputs": []
    },
    {
      "cell_type": "code",
      "metadata": {
        "id": "IOPfIE2GlFyX",
        "outputId": "de828edb-56c4-45da-a234-5fcca3258489",
        "colab": {
          "base_uri": "https://localhost:8080/",
          "height": 34
        }
      },
      "source": [
        "import pickle\n",
        "\n",
        "with open('nsc_smiles.pickle', 'rb') as fp:\n",
        "  NSC2SMILES = pickle.load(fp)\n",
        "  \n",
        "len(NSC2SMILES)"
      ],
      "execution_count": null,
      "outputs": [
        {
          "output_type": "execute_result",
          "data": {
            "text/plain": [
              "42407"
            ]
          },
          "metadata": {
            "tags": []
          },
          "execution_count": 12
        }
      ]
    },
    {
      "cell_type": "code",
      "metadata": {
        "id": "NoCMBYfAmrES",
        "outputId": "97a8611c-18ce-48b4-954b-35d7070c77c5",
        "colab": {
          "base_uri": "https://localhost:8080/",
          "height": 68
        }
      },
      "source": [
        "NSC2SMILES[7816]"
      ],
      "execution_count": null,
      "outputs": [
        {
          "output_type": "execute_result",
          "data": {
            "text/plain": [
              "{'CID': 73120,\n",
              " 'CanonicalSMILES': 'C1=CC=C2C(=C1)C(OS2(=O)=O)(C3=CC(=C(C(=C3)Br)O)Cl)C4=CC(=C(C(=C4)Br)O)Cl',\n",
              " 'IsomericSMILES': 'C1=CC=C2C(=C1)C(OS2(=O)=O)(C3=CC(=C(C(=C3)Br)O)Cl)C4=CC(=C(C(=C4)Br)O)Cl'}"
            ]
          },
          "metadata": {
            "tags": []
          },
          "execution_count": 13
        }
      ]
    },
    {
      "cell_type": "markdown",
      "metadata": {
        "id": "bxDO0gRFooU8"
      },
      "source": [
        "We remove the data that isn't compound (ie. substance)."
      ]
    },
    {
      "cell_type": "code",
      "metadata": {
        "id": "KCe-FsqooEH0"
      },
      "source": [
        "data['is_compound'] = data['NSC'].isin(NSC2SMILES)\n",
        "data = data[data['is_compound'] == True]"
      ],
      "execution_count": null,
      "outputs": []
    },
    {
      "cell_type": "markdown",
      "metadata": {
        "id": "gDj7XhOJqq9Q"
      },
      "source": [
        "Like the paper, the problem was reduced to binary classification by setting CI to 0 and CM/CA to 1."
      ]
    },
    {
      "cell_type": "code",
      "metadata": {
        "id": "RFQZqFyKqfaY",
        "outputId": "73ea3bd5-4312-4ff6-b55b-e26bf267761b",
        "colab": {
          "base_uri": "https://localhost:8080/",
          "height": 204
        }
      },
      "source": [
        "data['active'] = data['Conclusion'].isin(['CM', 'CA'])\n",
        "data.head(5)"
      ],
      "execution_count": null,
      "outputs": [
        {
          "output_type": "execute_result",
          "data": {
            "text/html": [
              "<div>\n",
              "<style scoped>\n",
              "    .dataframe tbody tr th:only-of-type {\n",
              "        vertical-align: middle;\n",
              "    }\n",
              "\n",
              "    .dataframe tbody tr th {\n",
              "        vertical-align: top;\n",
              "    }\n",
              "\n",
              "    .dataframe thead th {\n",
              "        text-align: right;\n",
              "    }\n",
              "</style>\n",
              "<table border=\"1\" class=\"dataframe\">\n",
              "  <thead>\n",
              "    <tr style=\"text-align: right;\">\n",
              "      <th></th>\n",
              "      <th>NSC</th>\n",
              "      <th>Conclusion</th>\n",
              "      <th>is_compound</th>\n",
              "      <th>active</th>\n",
              "    </tr>\n",
              "  </thead>\n",
              "  <tbody>\n",
              "    <tr>\n",
              "      <th>2</th>\n",
              "      <td>128</td>\n",
              "      <td>CI</td>\n",
              "      <td>True</td>\n",
              "      <td>False</td>\n",
              "    </tr>\n",
              "    <tr>\n",
              "      <th>3</th>\n",
              "      <td>163</td>\n",
              "      <td>CI</td>\n",
              "      <td>True</td>\n",
              "      <td>False</td>\n",
              "    </tr>\n",
              "    <tr>\n",
              "      <th>4</th>\n",
              "      <td>164</td>\n",
              "      <td>CI</td>\n",
              "      <td>True</td>\n",
              "      <td>False</td>\n",
              "    </tr>\n",
              "    <tr>\n",
              "      <th>5</th>\n",
              "      <td>170</td>\n",
              "      <td>CI</td>\n",
              "      <td>True</td>\n",
              "      <td>False</td>\n",
              "    </tr>\n",
              "    <tr>\n",
              "      <th>6</th>\n",
              "      <td>180</td>\n",
              "      <td>CI</td>\n",
              "      <td>True</td>\n",
              "      <td>False</td>\n",
              "    </tr>\n",
              "  </tbody>\n",
              "</table>\n",
              "</div>"
            ],
            "text/plain": [
              "   NSC Conclusion  is_compound  active\n",
              "2  128         CI         True   False\n",
              "3  163         CI         True   False\n",
              "4  164         CI         True   False\n",
              "5  170         CI         True   False\n",
              "6  180         CI         True   False"
            ]
          },
          "metadata": {
            "tags": []
          },
          "execution_count": 15
        }
      ]
    },
    {
      "cell_type": "code",
      "metadata": {
        "id": "RmvTcLj4o-hX",
        "outputId": "11c0ec3a-3024-454c-dbeb-0e396873d989",
        "colab": {
          "base_uri": "https://localhost:8080/",
          "height": 298
        }
      },
      "source": [
        "from collections import Counter\n",
        "print(Counter(data['active']))\n",
        "\n",
        "data['active'].value_counts().plot(kind='bar');"
      ],
      "execution_count": null,
      "outputs": [
        {
          "output_type": "stream",
          "text": [
            "Counter({False: 40859, True: 1548})\n"
          ],
          "name": "stdout"
        },
        {
          "output_type": "display_data",
          "data": {
            "image/png": "[encoded data removed]",
            "text/plain": [
              "<Figure size 432x288 with 1 Axes>"
            ]
          },
          "metadata": {
            "tags": [],
            "needs_background": "light"
          }
        }
      ]
    },
    {
      "cell_type": "markdown",
      "metadata": {
        "id": "Q3mJ1BGZ24IZ"
      },
      "source": [
        "### Chemcepterize NSC compound"
      ]
    },
    {
      "cell_type": "markdown",
      "metadata": {
        "id": "DimZ-bcMe0tA"
      },
      "source": [
        "`chemcepterizeFromNsc` converts a molecule into a color-coded grid image."
      ]
    },
    {
      "cell_type": "code",
      "metadata": {
        "id": "G8VbKMCwCHCo"
      },
      "source": [
        "from rdkit import Chem\n",
        "from rdkit.Chem import Draw\n",
        "import numpy as np\n",
        "import matplotlib.pyplot as plt\n",
        "%matplotlib inline\n",
        "\n",
        "def molFromNsc(nsc):\n",
        "  return Chem.MolFromSmiles(NSC2SMILES[nsc]['IsomericSMILES'])\n",
        "\n",
        "def drawFromNsc(nsc):\n",
        "  Draw.MolToMPL(molFromNsc(nsc), size=(100, 100))\n",
        "\n",
        "'''\n",
        "https://www.cheminformania.com/learn-how-to-teach-your-computer-to-see-chemistry-free-chemception-models-with-rdkit-and-keras/\n",
        "Note that the code above uses 4 channel image but the paper uses only 1 channel (greyscale).\n",
        "\n",
        "@param embed\n",
        "@param res - Resolution of each pixel (Å)\n",
        "'''\n",
        "def chemcepterizeFromNsc(nsc, embed=20.0, res=0.5):\n",
        "    mol = molFromNsc(nsc)\n",
        "    dims = int(embed*2/res)\n",
        "    cmol = Chem.Mol(mol.ToBinary())\n",
        "    cmol.ComputeGasteigerCharges()\n",
        "    Chem.AllChem.Compute2DCoords(cmol)\n",
        "    coords = cmol.GetConformer(0).GetPositions()\n",
        "    # vect = np.zeros((dims,dims,4))\n",
        "    vect = np.zeros((dims,dims,1))\n",
        "    #Bonds first\n",
        "    for i,bond in enumerate(mol.GetBonds()):\n",
        "        bondorder = bond.GetBondTypeAsDouble()\n",
        "        bidx = bond.GetBeginAtomIdx()\n",
        "        eidx = bond.GetEndAtomIdx()\n",
        "        bcoords = coords[bidx]\n",
        "        ecoords = coords[eidx]\n",
        "        frac = np.linspace(0,1,int(1/res*2))\n",
        "        for f in frac:\n",
        "            c = (f*bcoords + (1-f)*ecoords)\n",
        "            idx = int(round((c[0] + embed)/res))\n",
        "            idy = int(round((c[1]+ embed)/res))\n",
        "            #Save in the vector first channel\n",
        "            # vect[ idx , idy ,0] = bondorder\n",
        "            vect[idx , idy, 0] = 2\n",
        "    #Atom Layers\n",
        "    for i,atom in enumerate(cmol.GetAtoms()):\n",
        "            idx = int(round((coords[i][0] + embed)/res))\n",
        "            idy = int(round((coords[i][1]+ embed)/res))\n",
        "            #Atomic number\n",
        "            # vect[ idx , idy, 1] = atom.GetAtomicNum()\n",
        "            vect[idx , idy, 0] = atom.GetAtomicNum()\n",
        "            #Gasteiger Charges\n",
        "            # charge = atom.GetProp(\"_GasteigerCharge\")\n",
        "            # vect[ idx , idy, 3] = charge\n",
        "            #Hybridization\n",
        "            # hyptype = atom.GetHybridization().real\n",
        "            # vect[ idx , idy, 2] = hyptype\n",
        "    return vect\n",
        "\n",
        "def drawChemceptionVector(v):\n",
        "  plt.imshow(v[:,:,0])\n",
        "\n",
        "def drawChemceptionFromNsc(nsc, embed=20.0, res=0.5):\n",
        "  v = chemcepterizeFromNsc(nsc, embed=embed, res=res)\n",
        "  drawChemceptionVector(v)"
      ],
      "execution_count": null,
      "outputs": []
    },
    {
      "cell_type": "code",
      "metadata": {
        "id": "7iaNdCyVI-eu",
        "outputId": "885f7cf2-3f92-4075-aa63-dcf30e2c9b4c",
        "colab": {
          "base_uri": "https://localhost:8080/",
          "height": 214
        }
      },
      "source": [
        "drawFromNsc(7816)"
      ],
      "execution_count": null,
      "outputs": [
        {
          "output_type": "display_data",
          "data": {
            "image/png": "[encoded data removed]",
            "text/plain": [
              "<Figure size 72x72 with 1 Axes>"
            ]
          },
          "metadata": {
            "tags": [],
            "needs_background": "light"
          }
        }
      ]
    },
    {
      "cell_type": "code",
      "metadata": {
        "id": "JvcCcaZPJRZy",
        "outputId": "bd4d2e42-1778-4655-9178-a97ce76b4774",
        "colab": {
          "base_uri": "https://localhost:8080/",
          "height": 284
        }
      },
      "source": [
        "v = chemcepterizeFromNsc(7816, embed=10)\n",
        "print(v.shape)\n",
        "drawChemceptionFromNsc(7816, embed=10)"
      ],
      "execution_count": null,
      "outputs": [
        {
          "output_type": "stream",
          "text": [
            "(40, 40, 1)\n"
          ],
          "name": "stdout"
        },
        {
          "output_type": "display_data",
          "data": {
            "image/png": "[encoded data removed]",
            "text/plain": [
              "<Figure size 432x288 with 1 Axes>"
            ]
          },
          "metadata": {
            "tags": [],
            "needs_background": "light"
          }
        }
      ]
    },
    {
      "cell_type": "code",
      "metadata": {
        "id": "MYrqiVbsDKej",
        "outputId": "52033a44-0b01-4fb5-e8fe-52563e7bfc82",
        "colab": {
          "base_uri": "https://localhost:8080/",
          "height": 268
        }
      },
      "source": [
        "drawChemceptionFromNsc(220, embed=30)"
      ],
      "execution_count": null,
      "outputs": [
        {
          "output_type": "display_data",
          "data": {
            "image/png": "[encoded data removed]",
            "text/plain": [
              "<Figure size 432x288 with 1 Axes>"
            ]
          },
          "metadata": {
            "tags": [],
            "needs_background": "light"
          }
        }
      ]
    },
    {
      "cell_type": "markdown",
      "metadata": {
        "id": "NAvYX3muvOm4"
      },
      "source": [
        "### Preprocess data"
      ]
    },
    {
      "cell_type": "code",
      "metadata": {
        "id": "cTK14fE1Bqxq",
        "outputId": "d4ae256c-1a4d-46e0-93f1-18cd4cc2d301",
        "colab": {
          "base_uri": "https://localhost:8080/",
          "height": 34
        }
      },
      "source": [
        "import numpy as np\n",
        "from progressbar import progressbar\n",
        "\n",
        "data_X = []\n",
        "data_y = []\n",
        "\n",
        "for idx, row in progressbar(data.iterrows()):\n",
        "  try:\n",
        "    img = chemcepterizeFromNsc(row['NSC'], embed=20)\n",
        "    data_X.append(img)\n",
        "    data_y.append(row['active'])\n",
        "  except:\n",
        "    # Remove bad data (eg. out of bound)\n",
        "    pass\n",
        "\n",
        "data_X = np.array(data_X)\n",
        "data_y = np.array(data_y)"
      ],
      "execution_count": null,
      "outputs": [
        {
          "output_type": "stream",
          "text": [
            "| |           #                                   | 42406 Elapsed Time: 0:03:53\n"
          ],
          "name": "stderr"
        }
      ]
    },
    {
      "cell_type": "code",
      "metadata": {
        "id": "phKhzLNVQ6jT",
        "outputId": "cbb56551-8d05-47af-a4ac-cf713e355626",
        "colab": {
          "base_uri": "https://localhost:8080/",
          "height": 51
        }
      },
      "source": [
        "print(data_X.shape)\n",
        "print(data_y.shape)"
      ],
      "execution_count": null,
      "outputs": [
        {
          "output_type": "stream",
          "text": [
            "(42228, 80, 80, 1)\n",
            "(42228,)\n"
          ],
          "name": "stdout"
        }
      ]
    },
    {
      "cell_type": "markdown",
      "metadata": {
        "id": "RalrHyiwwySd"
      },
      "source": [
        "Stratify the data"
      ]
    },
    {
      "cell_type": "code",
      "metadata": {
        "id": "6igJg-Gbzq8P",
        "outputId": "efb73f7c-3aa6-4cae-dddd-4ff3775e73a7",
        "colab": {
          "base_uri": "https://localhost:8080/",
          "height": 51
        }
      },
      "source": [
        "from sklearn.model_selection import train_test_split\n",
        "\n",
        "X_train, X_test, y_train, y_test = train_test_split(data_X, data_y, stratify=data_y, test_size=1/6)\n",
        "\n",
        "print(len(X_train), len(X_test))\n",
        "print(Counter(y_train), Counter(y_test))"
      ],
      "execution_count": null,
      "outputs": [
        {
          "output_type": "stream",
          "text": [
            "35190 7038\n",
            "Counter({False: 33928, True: 1262}) Counter({False: 6785, True: 253})\n"
          ],
          "name": "stdout"
        }
      ]
    },
    {
      "cell_type": "code",
      "metadata": {
        "id": "o5R6U82yEu_9"
      },
      "source": [
        "with open('split_data.pickle', 'wb') as handle:\n",
        "  data = {\n",
        "    \"X_train\": X_train,\n",
        "    \"X_test\": X_test,\n",
        "    \"y_train\": y_train,\n",
        "    \"y_test\": y_test\n",
        "  }\n",
        "  pickle.dump(data, handle, protocol=pickle.HIGHEST_PROTOCOL)"
      ],
      "execution_count": null,
      "outputs": []
    },
    {
      "cell_type": "code",
      "metadata": {
        "id": "NG_G5tnNKm6j"
      },
      "source": [
        "!cp split_data.pickle drive/My\\ Drive/BIOINFO/split_data.pickle"
      ],
      "execution_count": null,
      "outputs": []
    },
    {
      "cell_type": "markdown",
      "metadata": {
        "id": "54Y9sC2d83YB"
      },
      "source": [
        "## Model"
      ]
    },
    {
      "cell_type": "code",
      "metadata": {
        "id": "FcVqXrxY0YEE"
      },
      "source": [
        "from classification_models.tfkeras import Classifiers\n",
        "from tensorflow.keras.layers import GlobalAveragePooling2D, Dense\n",
        "from tensorflow.keras.models import Model\n",
        "\n",
        "def get_model(model_name):\n",
        "  ClsModel, preprocess_input = Classifiers.get(model_name)\n",
        "\n",
        "  # X = preprocess_input(X_train)\n",
        "  # Xt = preprocess_input(X_test)\n",
        "\n",
        "  # build model\n",
        "  base_model = ClsModel(input_shape=(80,80,1), include_top=False)\n",
        "  x = GlobalAveragePooling2D()(base_model.output)\n",
        "  output = Dense(1, activation='sigmoid')(x)\n",
        "  model = Model(inputs=[base_model.input], outputs=[output])\n",
        "  return model"
      ],
      "execution_count": null,
      "outputs": []
    },
    {
      "cell_type": "code",
      "metadata": {
        "id": "nPXLzAjZSouI",
        "outputId": "731e1ab6-6590-4477-ddfd-ce124ca3b00e",
        "colab": {
          "base_uri": "https://localhost:8080/",
          "height": 54
        }
      },
      "source": [
        "# train\n",
        "model_name = 'resnext50'\n",
        "model = get_model(model_name)\n",
        "model.compile(optimizer='RMSprop', loss='binary_crossentropy', metrics=['accuracy'])\n",
        "model.fit(X_train, y_train, validation_data=(X_test, y_test))\n",
        "model.save(model_name + '.h5')"
      ],
      "execution_count": null,
      "outputs": [
        {
          "output_type": "stream",
          "text": [
            "1100/1100 [==============================] - 7747s 7s/step - loss: 0.2014 - accuracy: 0.9600 - val_loss: 0.2759 - val_accuracy: 0.9641\n"
          ],
          "name": "stdout"
        }
      ]
    },
    {
      "cell_type": "code",
      "metadata": {
        "id": "MA-KE_xTU4DM"
      },
      "source": [
        "!cp model.h5 drive/My\\ Drive/BIOINFO/seresnext50.h5\n",
        "# !cp drive/My\\ Drive/BIOINFO/resnet34.h5 resnet34.h5"
      ],
      "execution_count": null,
      "outputs": []
    },
    {
      "cell_type": "code",
      "metadata": {
        "id": "Zz7vybQl2nyt"
      },
      "source": [
        "from sklearn.metrics import roc_curve, auc\n",
        "import matplotlib.pyplot as plt\n",
        "\n",
        "def benchmark(model, filename='result.pickle'):\n",
        "  y_pred = model.predict(X_test)\n",
        "  fpr, tpr, thresholds = roc_curve(y_test, y_pred)\n",
        "  auc_score = auc(fpr, tpr)\n",
        "  print('AUC:', auc_score)\n",
        "  result = {\n",
        "      \"auc\": auc_score,\n",
        "      \"fpr\": fpr,\n",
        "      \"tpr\": tpr,\n",
        "      \"thresholds\": thresholds\n",
        "  }\n",
        "  with open(filename, 'wb') as handle:\n",
        "    pickle.dump(result, handle, protocol=pickle.HIGHEST_PROTOCOL)\n",
        "\n",
        "  plt.plot(fpr, tpr)\n",
        "  plt.title(\"ROC Curve (%s)\" % (filename,))\n",
        "  plt.show()"
      ],
      "execution_count": null,
      "outputs": []
    },
    {
      "cell_type": "code",
      "metadata": {
        "id": "EfMOUd1U34VP",
        "outputId": "4a11d670-c207-4c78-e3e4-8ae51f576182",
        "colab": {
          "base_uri": "https://localhost:8080/",
          "height": 298
        }
      },
      "source": [
        "from tensorflow.keras.models import load_model\n",
        "\n",
        "model_name = 'resnext50'\n",
        "# model = load_model(model_name + '.h5')\n",
        "benchmark(model, model_name + '.pickle')"
      ],
      "execution_count": null,
      "outputs": [
        {
          "output_type": "stream",
          "text": [
            "AUC: 0.606810244639856\n"
          ],
          "name": "stdout"
        },
        {
          "output_type": "display_data",
          "data": {
            "image/png": "[encoded data removed]",
            "text/plain": [
              "<Figure size 432x288 with 1 Axes>"
            ]
          },
          "metadata": {
            "tags": [],
            "needs_background": "light"
          }
        }
      ]
    },
    {
      "cell_type": "code",
      "metadata": {
        "id": "nQ08NvMDVZec",
        "outputId": "fdecb11a-d667-4008-db83-ad62604c1652",
        "colab": {
          "base_uri": "https://localhost:8080/",
          "height": 842
        }
      },
      "source": [
        "def plot_results():\n",
        "  model_names = ['resnet34', 'seresnext50', 'resnet101', 'resnext50']\n",
        "  plt.figure(figsize=(15, 15))\n",
        "  for model_name in model_names:\n",
        "    with open(model_name + '.pickle', 'rb') as fp:\n",
        "      result = pickle.load(fp)\n",
        "      plt.plot(result[\"fpr\"], result[\"tpr\"], label=model_name + ' (AUC = %.3f)' % (result[\"auc\"]))\n",
        "  plt.title(\"ROC Curve\")\n",
        "  plt.legend()\n",
        "  plt.show()\n",
        "\n",
        "plot_results()"
      ],
      "execution_count": null,
      "outputs": [
        {
          "output_type": "display_data",
          "data": {
            "image/png": "[encoded data removed]",
            "text/plain": [
              "<Figure size 1080x1080 with 1 Axes>"
            ]
          },
          "metadata": {
            "tags": [],
            "needs_background": "light"
          }
        }
      ]
    },
    {
      "cell_type": "code",
      "metadata": {
        "id": "33HWBYhV9RWV"
      },
      "source": [
        ""
      ],
      "execution_count": null,
      "outputs": []
    }
  ]
}