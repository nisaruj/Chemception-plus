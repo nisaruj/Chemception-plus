{
 "cells": [
  {
   "cell_type": "code",
   "execution_count": null,
   "metadata": {
    "id": "zUB8DReeLYIT"
   },
   "outputs": [],
   "source": [
    "!pip install -q image-classifiers"
   ]
  },
  {
   "cell_type": "code",
   "execution_count": null,
   "metadata": {
    "colab": {
     "base_uri": "https://localhost:8080/"
    },
    "id": "JY_pQ9oZMlNg",
    "outputId": "1d5c0808-1cce-4b90-f169-d2c791af1e81"
   },
   "outputs": [],
   "source": [
    "from google.colab import drive\n",
    "\n",
    "drive.mount('drive/')\n",
    "connected_to_drive = True"
   ]
  },
  {
   "cell_type": "code",
   "execution_count": null,
   "metadata": {
    "colab": {
     "base_uri": "https://localhost:8080/"
    },
    "id": "H1-h4MHoNiS0",
    "outputId": "b4dfdeec-9719-4969-991e-5184b778ee79"
   },
   "outputs": [
    {
     "name": "stdout",
     "output_type": "stream",
     "text": [
      "split_data.pickle\n"
     ]
    }
   ],
   "source": [
    "!ls drive/My\\ Drive/Projects/bio1/Chemception"
   ]
  },
  {
   "cell_type": "code",
   "execution_count": 35,
   "metadata": {},
   "outputs": [
    {
     "name": "stdout",
     "output_type": "stream",
     "text": [
      "split_data.pickle\n"
     ]
    }
   ],
   "source": [
    "!cp ../bucket/data/split_data.pickle data/split_data.pickle\n",
    "!ls data"
   ]
  },
  {
   "cell_type": "code",
   "execution_count": 1,
   "metadata": {
    "id": "QPU8nrOWKxol"
   },
   "outputs": [],
   "source": [
    "import datetime\n",
    "import glob\n",
    "import matplotlib.pyplot as plt\n",
    "import numpy as np\n",
    "import os.path\n",
    "import pickle\n",
    "\n",
    "from classification_models.tfkeras import Classifiers\n",
    "from tensorflow.keras import optimizers\n",
    "from tensorflow.keras.callbacks import TensorBoard\n",
    "from tensorflow.keras.layers import GlobalAveragePooling2D, Dense\n",
    "from tensorflow.keras.models import Model\n",
    "from sklearn.metrics import roc_curve, auc\n",
    "\n",
    "connected_to_drive = False"
   ]
  },
  {
   "cell_type": "code",
   "execution_count": 2,
   "metadata": {
    "id": "--jSTd8JJwbg"
   },
   "outputs": [],
   "source": [
    "# Read data\n",
    "\n",
    "if connected_to_drive:\n",
    "    data_path = 'drive/My Drive/Projects/bio1/Chemception/'\n",
    "else:\n",
    "    data_path = 'data/'\n",
    "\n",
    "with open(data_path + 'split_data.pickle', 'rb') as fp:\n",
    "    data = pickle.load(fp)\n",
    "    \n",
    "X_train = data[\"X_train\"]\n",
    "X_test = data[\"X_test\"]\n",
    "y_train = data[\"y_train\"]\n",
    "y_test = data[\"y_test\"]"
   ]
  },
  {
   "cell_type": "code",
   "execution_count": 3,
   "metadata": {
    "id": "Mr_P8lsbJwbk"
   },
   "outputs": [],
   "source": [
    "def get_model(model_name, input_shape=(80,80,1)):\n",
    "  ClsModel, preprocess_input = Classifiers.get(model_name)\n",
    "\n",
    "  # X = preprocess_input(X_train)\n",
    "  # Xt = preprocess_input(X_test)\n",
    "\n",
    "  # build model\n",
    "  base_model = ClsModel(input_shape=input_shape, include_top=False)\n",
    "  x = GlobalAveragePooling2D()(base_model.output)\n",
    "  output = Dense(1, activation='sigmoid')(x)\n",
    "  model = Model(inputs=[base_model.input], outputs=[output])\n",
    "  return model"
   ]
  },
  {
   "cell_type": "code",
   "execution_count": 17,
   "metadata": {
    "id": "5nKW6qUdJwbm"
   },
   "outputs": [],
   "source": [
    "def benchmark(model, X_test, y_test, filename='result.pickle', save=True):\n",
    "  y_pred = model.predict(X_test)\n",
    "  fpr, tpr, thresholds = roc_curve(y_test, y_pred)\n",
    "  auc_score = auc(fpr, tpr)\n",
    "  print('AUC:', auc_score)\n",
    "  result = {\n",
    "      \"auc\": auc_score,\n",
    "      \"fpr\": fpr,\n",
    "      \"tpr\": tpr,\n",
    "      \"thresholds\": thresholds\n",
    "  }\n",
    "  if save:\n",
    "    with open(filename, 'wb') as handle:\n",
    "        pickle.dump(result, handle, protocol=pickle.HIGHEST_PROTOCOL)\n",
    "\n",
    "  plt.plot(fpr, tpr)\n",
    "  plt.title(\"ROC Curve (%s)\" % (filename,))\n",
    "  plt.show()"
   ]
  },
  {
   "cell_type": "markdown",
   "metadata": {
    "id": "fRH8LXwKPrpJ"
   },
   "source": [
    "# Models"
   ]
  },
  {
   "cell_type": "code",
   "execution_count": 22,
   "metadata": {},
   "outputs": [],
   "source": [
    "model_dir = 'models/'\n",
    "result_dir = 'results/'"
   ]
  },
  {
   "cell_type": "code",
   "execution_count": 25,
   "metadata": {
    "id": "9CLoP1z4Jwbp"
   },
   "outputs": [],
   "source": [
    "model_list = [\n",
    "    'vgg16',\n",
    "    'vgg19',\n",
    "    'resnet18',\n",
    "    'resnet34',\n",
    "    'resnet50v2',\n",
    "    'resnet101',\n",
    "    'resnet152',\n",
    "    'resnet50v2',\n",
    "    'resnet101v2',\n",
    "    'resnet152v2',\n",
    "    'resnext50',\n",
    "    'resnext101',\n",
    "    'densenet121',\n",
    "    'densenet169',\n",
    "    'densenet201',\n",
    "    'inceptionv3',\n",
    "    'xception',\n",
    "    'inceptionresnetv2',\n",
    "    'seresnet18',\n",
    "    'seresnet34',\n",
    "    'seresnext50',\n",
    "    'seresnet101',\n",
    "    'seresnet152',\n",
    "    'seresnext50',\n",
    "    'seresnext101',\n",
    "    'senet154',\n",
    "    'nasnetlarge',\n",
    "    'nasnetmobile',\n",
    "    'mobilenet',\n",
    "    'mobilenetv2',\n",
    "]\n",
    "\n",
    "RMSprop = optimizers.RMSprop(learning_rate=1E-3, rho=0.9, epsilon=1E-8)\n",
    "lr = optimizers.schedules.ExponentialDecay(1E-3, 1, 0.92, staircase=True)\n",
    "SGD = optimizers.SGD(learning_rate=lr, momentum=0.0)"
   ]
  },
  {
   "cell_type": "code",
   "execution_count": 6,
   "metadata": {
    "colab": {
     "base_uri": "https://localhost:8080/"
    },
    "id": "Z5AQjzqIQLtt",
    "outputId": "19a9a2ae-b256-4a8c-b6b6-b2b7dbbe45e0"
   },
   "outputs": [],
   "source": [
    "!mkdir -p logs/\n",
    "!mkdir -p logs/fit/\n",
    "\n",
    "%load_ext tensorboard"
   ]
  },
  {
   "cell_type": "code",
   "execution_count": 26,
   "metadata": {
    "id": "DdZkibXQJwbs"
   },
   "outputs": [
    {
     "name": "stdout",
     "output_type": "stream",
     "text": [
      "models/inceptionresnetv2.h5\n"
     ]
    }
   ],
   "source": [
    "!mkdir -p $model_dir\n",
    "\n",
    "for filename in glob.glob(model_dir + '*.h5'):\n",
    "    print(filename)\n",
    "\n",
    "def train_model(model_name, X_train, y_train, X_test, y_test, input_shape=(80, 80, 1),  batch_size=32, epochs=50):\n",
    "    model_path = model_dir + model_name + '.h5'\n",
    "    print(model_name, ':', 'model at path', model_path)\n",
    "    \n",
    "    model = get_model(model_name, input_shape)\n",
    "    \n",
    "    log_dir = \"logs/fit/\" + model_name  + datetime.datetime.now().strftime(\"%Y%m%d-%H%M%S\")\n",
    "    tensorboard_callback = TensorBoard(log_dir=log_dir, histogram_freq=1)\n",
    "\n",
    "    print(model_name, ':', 'compiling /w RMSprop')\n",
    "    model.compile(optimizer=RMSprop, loss='binary_crossentropy', metrics=['accuracy'])\n",
    "    print(model_name, ':', 'fitting /w RMSprop')\n",
    "    model.fit(X_train, y_train, \n",
    "              validation_data=(X_test, y_test), \n",
    "              batch_size=batch_size, \n",
    "              epochs=epochs, \n",
    "              callbacks=[tensorboard_callback])\n",
    "\n",
    "    print(model_name, ':', 'compiling /w SGD')\n",
    "    model.compile(optimizer=SGD, loss='binary_crossentropy', metrics=['accuracy'])\n",
    "    print(model_name, ':', 'fitting /w SGD')\n",
    "    model.fit(X_train, y_train, \n",
    "              validation_data=(X_test, y_test), \n",
    "              batch_size=batch_size, \n",
    "              epochs=epochs, \n",
    "              callbacks=[tensorboard_callback])\n",
    "\n",
    "    model.save(model_path)\n",
    "    print(model_name, ':', 'saved')\n",
    "    \n",
    "    return model"
   ]
  },
  {
   "cell_type": "markdown",
   "metadata": {},
   "source": [
    "### Tensorboard"
   ]
  },
  {
   "cell_type": "code",
   "execution_count": 11,
   "metadata": {
    "id": "qFnCQk97Jwbw"
   },
   "outputs": [
    {
     "data": {
      "text/plain": [
       "Reusing TensorBoard on port 6006 (pid 3468), started 1:10:27 ago. (Use '!kill 3468' to kill it.)"
      ]
     },
     "metadata": {},
     "output_type": "display_data"
    },
    {
     "data": {
      "text/html": [
       "\n",
       "      <iframe id=\"tensorboard-frame-dd3d2da95f75bd2f\" width=\"100%\" height=\"800\" frameborder=\"0\">\n",
       "      </iframe>\n",
       "      <script>\n",
       "        (function() {\n",
       "          const frame = document.getElementById(\"tensorboard-frame-dd3d2da95f75bd2f\");\n",
       "          const url = new URL(\"/\", window.location);\n",
       "          const port = 6006;\n",
       "          if (port) {\n",
       "            url.port = port;\n",
       "          }\n",
       "          frame.src = url;\n",
       "        })();\n",
       "      </script>\n",
       "    "
      ],
      "text/plain": [
       "<IPython.core.display.HTML object>"
      ]
     },
     "metadata": {},
     "output_type": "display_data"
    }
   ],
   "source": [
    "%tensorboard --logdir logs/fit/ --port 6006 --bind_all"
   ]
  },
  {
   "cell_type": "markdown",
   "metadata": {
    "id": "krOjRw_xP3Hw"
   },
   "source": [
    "### ResNet18"
   ]
  },
  {
   "cell_type": "code",
   "execution_count": null,
   "metadata": {
    "id": "quGd1T2aPi8d"
   },
   "outputs": [],
   "source": [
    "train_model('resnet18', X_train, y_train, X_test, y_test, input_shape=X_train.shape[1:], batch_size=32, epochs=10)"
   ]
  },
  {
   "cell_type": "markdown",
   "metadata": {
    "id": "XNsa3RrDPjsQ"
   },
   "source": [
    "### Inception ResNet v2"
   ]
  },
  {
   "cell_type": "code",
   "execution_count": 12,
   "metadata": {
    "id": "Eo81mrnDJwbu"
   },
   "outputs": [
    {
     "name": "stdout",
     "output_type": "stream",
     "text": [
      "(35190, 80, 80, 3) (7038, 80, 80, 3)\n",
      "inceptionresnetv2 : model at path models/inceptionresnetv2.h5\n",
      "inceptionresnetv2 : compiling /w RMSprop\n",
      "inceptionresnetv2 : fitting /w RMSprop\n",
      "Epoch 1/50\n",
      "   1/1100 [..............................] - ETA: 0s - loss: 0.5140 - accuracy: 0.7500WARNING:tensorflow:From /home/g6031044421/miniconda3/lib/python3.8/site-packages/tensorflow/python/ops/summary_ops_v2.py:1277: stop (from tensorflow.python.eager.profiler) is deprecated and will be removed after 2020-07-01.\n",
      "Instructions for updating:\n",
      "use `tf.profiler.experimental.stop` instead.\n",
      "1100/1100 [==============================] - 1641s 1s/step - loss: 0.1668 - accuracy: 0.9616 - val_loss: 0.1451 - val_accuracy: 0.9641\n",
      "Epoch 2/50\n",
      "1100/1100 [==============================] - 1627s 1s/step - loss: 0.1501 - accuracy: 0.9634 - val_loss: 0.1478 - val_accuracy: 0.9641\n",
      "Epoch 3/50\n",
      "1100/1100 [==============================] - 1628s 1s/step - loss: 0.1494 - accuracy: 0.9637 - val_loss: 0.1435 - val_accuracy: 0.9646\n",
      "Epoch 4/50\n",
      "1100/1100 [==============================] - 1629s 1s/step - loss: 0.1462 - accuracy: 0.9642 - val_loss: 0.4238 - val_accuracy: 0.9656\n",
      "Epoch 5/50\n",
      "1100/1100 [==============================] - 1628s 1s/step - loss: 0.1425 - accuracy: 0.9645 - val_loss: 0.2287 - val_accuracy: 0.9655\n",
      "Epoch 6/50\n",
      "1100/1100 [==============================] - 1628s 1s/step - loss: 0.1408 - accuracy: 0.9648 - val_loss: 0.2829 - val_accuracy: 0.9646\n",
      "Epoch 7/50\n",
      "1100/1100 [==============================] - 1627s 1s/step - loss: 0.1367 - accuracy: 0.9659 - val_loss: 10.6106 - val_accuracy: 0.9642\n",
      "Epoch 8/50\n",
      "1100/1100 [==============================] - 1628s 1s/step - loss: 0.1311 - accuracy: 0.9666 - val_loss: 0.7060 - val_accuracy: 0.9625\n",
      "Epoch 9/50\n",
      "1100/1100 [==============================] - 1628s 1s/step - loss: 0.1285 - accuracy: 0.9675 - val_loss: 0.1426 - val_accuracy: 0.9655\n",
      "Epoch 10/50\n",
      "1100/1100 [==============================] - 1627s 1s/step - loss: 0.1290 - accuracy: 0.9676 - val_loss: 0.3330 - val_accuracy: 0.9373\n",
      "Epoch 11/50\n",
      "1100/1100 [==============================] - 1628s 1s/step - loss: 0.1218 - accuracy: 0.9682 - val_loss: 41.0044 - val_accuracy: 0.9649\n",
      "Epoch 12/50\n",
      "1100/1100 [==============================] - 1628s 1s/step - loss: 0.1173 - accuracy: 0.9689 - val_loss: 0.8139 - val_accuracy: 0.9655\n",
      "Epoch 13/50\n",
      "1100/1100 [==============================] - 1628s 1s/step - loss: 0.1119 - accuracy: 0.9697 - val_loss: 0.7171 - val_accuracy: 0.9658\n",
      "Epoch 14/50\n",
      "1100/1100 [==============================] - 1628s 1s/step - loss: 0.1072 - accuracy: 0.9716 - val_loss: 0.1733 - val_accuracy: 0.9656\n",
      "Epoch 15/50\n",
      "1100/1100 [==============================] - 1627s 1s/step - loss: 0.1031 - accuracy: 0.9718 - val_loss: 1.2859 - val_accuracy: 0.9662\n",
      "Epoch 16/50\n",
      "1100/1100 [==============================] - 1628s 1s/step - loss: 0.0992 - accuracy: 0.9729 - val_loss: 0.1503 - val_accuracy: 0.9653\n",
      "Epoch 17/50\n",
      "1100/1100 [==============================] - 1627s 1s/step - loss: 0.0927 - accuracy: 0.9743 - val_loss: 0.1406 - val_accuracy: 0.9677\n",
      "Epoch 18/50\n",
      "1100/1100 [==============================] - 1628s 1s/step - loss: 0.0863 - accuracy: 0.9745 - val_loss: 0.1492 - val_accuracy: 0.9639\n",
      "Epoch 19/50\n",
      "1100/1100 [==============================] - 1627s 1s/step - loss: 0.0813 - accuracy: 0.9762 - val_loss: 0.6549 - val_accuracy: 0.9656\n",
      "Epoch 20/50\n",
      "1100/1100 [==============================] - 1628s 1s/step - loss: 0.0747 - accuracy: 0.9776 - val_loss: 0.2527 - val_accuracy: 0.9206\n",
      "Epoch 21/50\n",
      "1100/1100 [==============================] - 1629s 1s/step - loss: 0.0693 - accuracy: 0.9795 - val_loss: 0.6217 - val_accuracy: 0.9498\n",
      "Epoch 22/50\n",
      "1100/1100 [==============================] - 1628s 1s/step - loss: 0.0676 - accuracy: 0.9791 - val_loss: 0.1872 - val_accuracy: 0.9557\n",
      "Epoch 23/50\n",
      "1100/1100 [==============================] - 1627s 1s/step - loss: 0.0618 - accuracy: 0.9807 - val_loss: 0.1838 - val_accuracy: 0.9602\n",
      "Epoch 24/50\n",
      "1100/1100 [==============================] - 1628s 1s/step - loss: 0.0565 - accuracy: 0.9812 - val_loss: 1.5389 - val_accuracy: 0.9659\n",
      "Epoch 25/50\n",
      "1100/1100 [==============================] - 1627s 1s/step - loss: 0.0549 - accuracy: 0.9821 - val_loss: 8.4358 - val_accuracy: 0.9655\n",
      "Epoch 26/50\n",
      "1100/1100 [==============================] - 1627s 1s/step - loss: 0.0512 - accuracy: 0.9833 - val_loss: 0.2134 - val_accuracy: 0.9649\n",
      "Epoch 27/50\n",
      "1100/1100 [==============================] - 1628s 1s/step - loss: 0.0480 - accuracy: 0.9840 - val_loss: 34.6056 - val_accuracy: 0.9632\n",
      "Epoch 28/50\n",
      "1100/1100 [==============================] - 1628s 1s/step - loss: 0.0466 - accuracy: 0.9848 - val_loss: 100.3704 - val_accuracy: 0.9648\n",
      "Epoch 29/50\n",
      "1100/1100 [==============================] - 1628s 1s/step - loss: 0.0434 - accuracy: 0.9860 - val_loss: 45.1323 - val_accuracy: 0.9608\n",
      "Epoch 30/50\n",
      "1100/1100 [==============================] - 1628s 1s/step - loss: 0.0433 - accuracy: 0.9854 - val_loss: 15.2952 - val_accuracy: 0.9655\n",
      "Epoch 31/50\n",
      "1100/1100 [==============================] - 1627s 1s/step - loss: 0.0402 - accuracy: 0.9869 - val_loss: 0.2178 - val_accuracy: 0.9653\n",
      "Epoch 32/50\n",
      "1100/1100 [==============================] - 1628s 1s/step - loss: 0.0378 - accuracy: 0.9872 - val_loss: 51.6735 - val_accuracy: 0.9655\n",
      "Epoch 33/50\n",
      "1100/1100 [==============================] - 1628s 1s/step - loss: 0.0400 - accuracy: 0.9871 - val_loss: 253.1757 - val_accuracy: 0.9662\n",
      "Epoch 34/50\n",
      "1100/1100 [==============================] - 1628s 1s/step - loss: 0.0401 - accuracy: 0.9870 - val_loss: 56.4701 - val_accuracy: 0.9635\n",
      "Epoch 35/50\n",
      "1100/1100 [==============================] - 1628s 1s/step - loss: 0.0353 - accuracy: 0.9879 - val_loss: 26.9613 - val_accuracy: 0.8927\n",
      "Epoch 36/50\n",
      "1100/1100 [==============================] - 1629s 1s/step - loss: 0.0373 - accuracy: 0.9882 - val_loss: 1.9061 - val_accuracy: 0.8309\n",
      "Epoch 37/50\n",
      "1100/1100 [==============================] - 1628s 1s/step - loss: 0.0344 - accuracy: 0.9883 - val_loss: 37.6562 - val_accuracy: 0.9649\n",
      "Epoch 38/50\n",
      "1100/1100 [==============================] - 1629s 1s/step - loss: 0.0348 - accuracy: 0.9889 - val_loss: 13.8129 - val_accuracy: 0.9649\n",
      "Epoch 39/50\n",
      "1100/1100 [==============================] - 1628s 1s/step - loss: 0.0322 - accuracy: 0.9899 - val_loss: 0.2555 - val_accuracy: 0.9311\n",
      "Epoch 40/50\n",
      "1100/1100 [==============================] - 1629s 1s/step - loss: 0.0342 - accuracy: 0.9890 - val_loss: 21.9968 - val_accuracy: 0.9527\n",
      "Epoch 41/50\n",
      "1100/1100 [==============================] - 1628s 1s/step - loss: 0.0320 - accuracy: 0.9899 - val_loss: 38.9064 - val_accuracy: 0.9655\n",
      "Epoch 42/50\n",
      "1100/1100 [==============================] - 1628s 1s/step - loss: 0.0342 - accuracy: 0.9896 - val_loss: 85.0735 - val_accuracy: 0.9602\n",
      "Epoch 43/50\n",
      "1100/1100 [==============================] - 1629s 1s/step - loss: 0.0316 - accuracy: 0.9895 - val_loss: 3462.4182 - val_accuracy: 0.9643\n",
      "Epoch 44/50\n",
      "1100/1100 [==============================] - 1629s 1s/step - loss: 0.0284 - accuracy: 0.9909 - val_loss: 2.8234 - val_accuracy: 0.9636\n",
      "Epoch 45/50\n",
      "1100/1100 [==============================] - 1627s 1s/step - loss: 0.0331 - accuracy: 0.9900 - val_loss: 0.5080 - val_accuracy: 0.8512\n",
      "Epoch 46/50\n",
      "1100/1100 [==============================] - 1628s 1s/step - loss: 0.0313 - accuracy: 0.9904 - val_loss: 0.3049 - val_accuracy: 0.9452\n",
      "Epoch 47/50\n",
      "1100/1100 [==============================] - 1628s 1s/step - loss: 0.0289 - accuracy: 0.9908 - val_loss: 57.8572 - val_accuracy: 0.9292\n",
      "Epoch 48/50\n",
      "1100/1100 [==============================] - 1628s 1s/step - loss: 0.0278 - accuracy: 0.9912 - val_loss: 1.0181 - val_accuracy: 0.9385\n",
      "Epoch 49/50\n",
      "1100/1100 [==============================] - 1629s 1s/step - loss: 0.0275 - accuracy: 0.9912 - val_loss: 8.9444 - val_accuracy: 0.9612\n",
      "Epoch 50/50\n",
      "1100/1100 [==============================] - 1628s 1s/step - loss: 0.0260 - accuracy: 0.9915 - val_loss: 0.2372 - val_accuracy: 0.9639\n",
      "inceptionresnetv2 : compiling /w SGD\n",
      "inceptionresnetv2 : fitting /w SGD\n",
      "Epoch 1/50\n",
      "1100/1100 [==============================] - 1597s 1s/step - loss: 0.0195 - accuracy: 0.9930 - val_loss: 1.0387 - val_accuracy: 0.9581\n",
      "Epoch 2/50\n",
      "1100/1100 [==============================] - 1592s 1s/step - loss: 0.0198 - accuracy: 0.9930 - val_loss: 1.6846 - val_accuracy: 0.9582\n",
      "Epoch 3/50\n",
      "1100/1100 [==============================] - 1592s 1s/step - loss: 0.0205 - accuracy: 0.9929 - val_loss: 1.3081 - val_accuracy: 0.9582\n",
      "Epoch 4/50\n",
      "1100/1100 [==============================] - 1591s 1s/step - loss: 0.0194 - accuracy: 0.9932 - val_loss: 1.3217 - val_accuracy: 0.9581\n",
      "Epoch 5/50\n",
      "1100/1100 [==============================] - 1592s 1s/step - loss: 0.0198 - accuracy: 0.9932 - val_loss: 1.1267 - val_accuracy: 0.9578\n",
      "Epoch 6/50\n",
      "1100/1100 [==============================] - 1592s 1s/step - loss: 0.0201 - accuracy: 0.9928 - val_loss: 1.8891 - val_accuracy: 0.9577\n",
      "Epoch 7/50\n",
      "1100/1100 [==============================] - 1591s 1s/step - loss: 0.0192 - accuracy: 0.9928 - val_loss: 1.0622 - val_accuracy: 0.9579\n",
      "Epoch 8/50\n",
      "1100/1100 [==============================] - 1592s 1s/step - loss: 0.0192 - accuracy: 0.9932 - val_loss: 1.1351 - val_accuracy: 0.9584\n",
      "Epoch 9/50\n",
      "1100/1100 [==============================] - 1592s 1s/step - loss: 0.0201 - accuracy: 0.9932 - val_loss: 1.8987 - val_accuracy: 0.9581\n",
      "Epoch 10/50\n",
      "1100/1100 [==============================] - 1593s 1s/step - loss: 0.0201 - accuracy: 0.9927 - val_loss: 1.0712 - val_accuracy: 0.9585\n",
      "Epoch 11/50\n",
      "1100/1100 [==============================] - 1592s 1s/step - loss: 0.0191 - accuracy: 0.9933 - val_loss: 1.2761 - val_accuracy: 0.9584\n",
      "Epoch 12/50\n",
      "1100/1100 [==============================] - 1592s 1s/step - loss: 0.0194 - accuracy: 0.9930 - val_loss: 1.3948 - val_accuracy: 0.9584\n",
      "Epoch 13/50\n",
      "1100/1100 [==============================] - 1591s 1s/step - loss: 0.0194 - accuracy: 0.9933 - val_loss: 1.1062 - val_accuracy: 0.9581\n",
      "Epoch 14/50\n",
      "1100/1100 [==============================] - 1591s 1s/step - loss: 0.0194 - accuracy: 0.9930 - val_loss: 2.0155 - val_accuracy: 0.9581\n",
      "Epoch 15/50\n",
      "1100/1100 [==============================] - 1592s 1s/step - loss: 0.0194 - accuracy: 0.9930 - val_loss: 1.6059 - val_accuracy: 0.9582\n",
      "Epoch 16/50\n",
      "1100/1100 [==============================] - 1591s 1s/step - loss: 0.0199 - accuracy: 0.9930 - val_loss: 0.6569 - val_accuracy: 0.9582\n",
      "Epoch 17/50\n",
      "1100/1100 [==============================] - 1592s 1s/step - loss: 0.0192 - accuracy: 0.9929 - val_loss: 1.9142 - val_accuracy: 0.9581\n",
      "Epoch 18/50\n",
      "1100/1100 [==============================] - 1591s 1s/step - loss: 0.0199 - accuracy: 0.9926 - val_loss: 0.9103 - val_accuracy: 0.9581\n",
      "Epoch 19/50\n",
      "1100/1100 [==============================] - 1592s 1s/step - loss: 0.0194 - accuracy: 0.9932 - val_loss: 1.0738 - val_accuracy: 0.9582\n",
      "Epoch 20/50\n",
      "1100/1100 [==============================] - 1591s 1s/step - loss: 0.0198 - accuracy: 0.9930 - val_loss: 1.9206 - val_accuracy: 0.9581\n",
      "Epoch 21/50\n",
      "1100/1100 [==============================] - 1592s 1s/step - loss: 0.0196 - accuracy: 0.9930 - val_loss: 1.7354 - val_accuracy: 0.9579\n",
      "Epoch 22/50\n",
      "1100/1100 [==============================] - 1592s 1s/step - loss: 0.0204 - accuracy: 0.9930 - val_loss: 1.3457 - val_accuracy: 0.9584\n",
      "Epoch 23/50\n",
      "1100/1100 [==============================] - 1592s 1s/step - loss: 0.0200 - accuracy: 0.9930 - val_loss: 1.3121 - val_accuracy: 0.9579\n",
      "Epoch 24/50\n",
      "1100/1100 [==============================] - 1592s 1s/step - loss: 0.0198 - accuracy: 0.9932 - val_loss: 1.5093 - val_accuracy: 0.9584\n",
      "Epoch 25/50\n",
      "1100/1100 [==============================] - 1594s 1s/step - loss: 0.0195 - accuracy: 0.9930 - val_loss: 1.1378 - val_accuracy: 0.9581\n",
      "Epoch 26/50\n",
      "1100/1100 [==============================] - 1592s 1s/step - loss: 0.0203 - accuracy: 0.9927 - val_loss: 1.8775 - val_accuracy: 0.9582\n",
      "Epoch 27/50\n",
      "1100/1100 [==============================] - 1592s 1s/step - loss: 0.0200 - accuracy: 0.9930 - val_loss: 1.1862 - val_accuracy: 0.9581\n",
      "Epoch 28/50\n",
      "1100/1100 [==============================] - 1592s 1s/step - loss: 0.0200 - accuracy: 0.9931 - val_loss: 1.1373 - val_accuracy: 0.9582\n",
      "Epoch 29/50\n",
      "1100/1100 [==============================] - 1592s 1s/step - loss: 0.0206 - accuracy: 0.9930 - val_loss: 1.7852 - val_accuracy: 0.9581\n",
      "Epoch 30/50\n",
      "1100/1100 [==============================] - 1593s 1s/step - loss: 0.0199 - accuracy: 0.9926 - val_loss: 1.5993 - val_accuracy: 0.9578\n",
      "Epoch 31/50\n",
      "1100/1100 [==============================] - 1593s 1s/step - loss: 0.0199 - accuracy: 0.9933 - val_loss: 0.3818 - val_accuracy: 0.9581\n",
      "Epoch 32/50\n",
      "1100/1100 [==============================] - 1592s 1s/step - loss: 0.0194 - accuracy: 0.9933 - val_loss: 1.4546 - val_accuracy: 0.9579\n",
      "Epoch 33/50\n",
      "1100/1100 [==============================] - 1592s 1s/step - loss: 0.0207 - accuracy: 0.9929 - val_loss: 1.4052 - val_accuracy: 0.9579\n",
      "Epoch 34/50\n",
      "1100/1100 [==============================] - 1591s 1s/step - loss: 0.0192 - accuracy: 0.9932 - val_loss: 2.0677 - val_accuracy: 0.9579\n",
      "Epoch 35/50\n",
      "1100/1100 [==============================] - 1591s 1s/step - loss: 0.0190 - accuracy: 0.9931 - val_loss: 4.7519 - val_accuracy: 0.9584\n",
      "Epoch 36/50\n",
      "1100/1100 [==============================] - 1592s 1s/step - loss: 0.0197 - accuracy: 0.9930 - val_loss: 0.6087 - val_accuracy: 0.9581\n",
      "Epoch 37/50\n",
      "1100/1100 [==============================] - 1592s 1s/step - loss: 0.0202 - accuracy: 0.9932 - val_loss: 1.9171 - val_accuracy: 0.9579\n",
      "Epoch 38/50\n",
      "1100/1100 [==============================] - 1592s 1s/step - loss: 0.0198 - accuracy: 0.9929 - val_loss: 0.2590 - val_accuracy: 0.9579\n",
      "Epoch 39/50\n",
      "1100/1100 [==============================] - 1592s 1s/step - loss: 0.0197 - accuracy: 0.9934 - val_loss: 0.9973 - val_accuracy: 0.9581\n",
      "Epoch 40/50\n",
      "1100/1100 [==============================] - 1594s 1s/step - loss: 0.0201 - accuracy: 0.9928 - val_loss: 0.4889 - val_accuracy: 0.9577\n",
      "Epoch 41/50\n",
      "1100/1100 [==============================] - 1591s 1s/step - loss: 0.0195 - accuracy: 0.9932 - val_loss: 1.1560 - val_accuracy: 0.9581\n",
      "Epoch 42/50\n",
      "1100/1100 [==============================] - 1593s 1s/step - loss: 0.0199 - accuracy: 0.9930 - val_loss: 1.7800 - val_accuracy: 0.9578\n",
      "Epoch 43/50\n",
      "1100/1100 [==============================] - 1591s 1s/step - loss: 0.0193 - accuracy: 0.9926 - val_loss: 0.3791 - val_accuracy: 0.9584\n",
      "Epoch 44/50\n",
      "1100/1100 [==============================] - 1592s 1s/step - loss: 0.0198 - accuracy: 0.9926 - val_loss: 1.1254 - val_accuracy: 0.9579\n",
      "Epoch 45/50\n",
      "1100/1100 [==============================] - 1592s 1s/step - loss: 0.0208 - accuracy: 0.9922 - val_loss: 1.9269 - val_accuracy: 0.9581\n",
      "Epoch 46/50\n",
      "1100/1100 [==============================] - 1592s 1s/step - loss: 0.0193 - accuracy: 0.9934 - val_loss: 1.2697 - val_accuracy: 0.9579\n",
      "Epoch 47/50\n",
      "1100/1100 [==============================] - 1592s 1s/step - loss: 0.0200 - accuracy: 0.9931 - val_loss: 1.0274 - val_accuracy: 0.9581\n",
      "Epoch 48/50\n",
      "1100/1100 [==============================] - 1592s 1s/step - loss: 0.0196 - accuracy: 0.9936 - val_loss: 1.1944 - val_accuracy: 0.9584\n",
      "Epoch 49/50\n",
      "1100/1100 [==============================] - 1591s 1s/step - loss: 0.0197 - accuracy: 0.9925 - val_loss: 0.3980 - val_accuracy: 0.9581\n",
      "Epoch 50/50\n",
      "1100/1100 [==============================] - 1592s 1s/step - loss: 0.0195 - accuracy: 0.9931 - val_loss: 2.0471 - val_accuracy: 0.9582\n",
      "inceptionresnetv2 : saved\n"
     ]
    },
    {
     "data": {
      "text/plain": [
       "<tensorflow.python.keras.engine.functional.Functional at 0x7f16455f1ee0>"
      ]
     },
     "execution_count": 12,
     "metadata": {},
     "output_type": "execute_result"
    }
   ],
   "source": [
    "resize_method = 'duplicate'\n",
    "\n",
    "ch = 3\n",
    "\n",
    "if resize_method == 'duplicate':\n",
    "    train_shape = tuple(list(X_train.shape[: -1]) + [ch])\n",
    "    X_train_new = np.broadcast_to(X_train, train_shape).copy()\n",
    "    \n",
    "    test_shape = tuple(list(X_test.shape[: -1]) + [ch])\n",
    "    X_test_new = np.broadcast_to(X_test, test_shape).copy()\n",
    "    \n",
    "    print(X_train_new.shape, X_test_new.shape)    \n",
    "\n",
    "train_model('inceptionresnetv2', X_train_new, y_train, X_test_new, y_test, input_shape=X_train_new.shape[1:], batch_size=32, epochs=50)"
   ]
  },
  {
   "cell_type": "code",
   "execution_count": 28,
   "metadata": {},
   "outputs": [
    {
     "name": "stdout",
     "output_type": "stream",
     "text": [
      "AUC: 0.6973928189653416\n"
     ]
    },
    {
     "data": {
      "image/png": "[encoded data removed]",
      "text/plain": [
       "<Figure size 432x288 with 1 Axes>"
      ]
     },
     "metadata": {
      "needs_background": "light"
     },
     "output_type": "display_data"
    }
   ],
   "source": [
    "from tensorflow.keras.models import load_model\n",
    "\n",
    "model_name = 'inceptionresnetv2'\n",
    "model_path = model_dir + model_name + '.h5'\n",
    "model = load_model(model_path)\n",
    "result_path = result_dir + model_name + '.pickle'\n",
    "benchmark(model, X_test_new, y_test, filename=result_path)"
   ]
  },
  {
   "cell_type": "markdown",
   "metadata": {},
   "source": [
    "### Save to Bucket"
   ]
  },
  {
   "cell_type": "code",
   "execution_count": 36,
   "metadata": {},
   "outputs": [
    {
     "name": "stdout",
     "output_type": "stream",
     "text": [
      "saved models:\n",
      "models/inceptionresnetv2.h5\n",
      "\n",
      "saved results:\n",
      "results/inceptionresnetv2.pickle\n"
     ]
    }
   ],
   "source": [
    "print('saved models:')\n",
    "for model_path in glob.glob(model_dir + '*.h5'):\n",
    "    print(model_path)\n",
    "print('')\n",
    "\n",
    "print('saved results:')\n",
    "for result_path in glob.glob(result_dir + '*.pickle'):\n",
    "    print(result_path)"
   ]
  },
  {
   "cell_type": "code",
   "execution_count": 47,
   "metadata": {},
   "outputs": [],
   "source": [
    "!cp models/* -t ../bucket/models/\n",
    "!cp results/* -t ../bucket/results/ "
   ]
  }
 ],
 "metadata": {
  "accelerator": "GPU",
  "colab": {
   "include_colab_link": true,
   "name": "models.ipynb",
   "provenance": []
  },
  "kernelspec": {
   "display_name": "Python 3",
   "language": "python",
   "name": "python3"
  },
  "language_info": {
   "codemirror_mode": {
    "name": "ipython",
    "version": 3
   },
   "file_extension": ".py",
   "mimetype": "text/x-python",
   "name": "python",
   "nbconvert_exporter": "python",
   "pygments_lexer": "ipython3",
   "version": "3.8.3"
  }
 },
 "nbformat": 4,
 "nbformat_minor": 4
}
