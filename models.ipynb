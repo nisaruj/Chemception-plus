{
  "nbformat": 4,
  "nbformat_minor": 0,
  "metadata": {
    "kernelspec": {
      "display_name": "Python 3",
      "language": "python",
      "name": "python3"
    },
    "language_info": {
      "codemirror_mode": {
        "name": "ipython",
        "version": 3
      },
      "file_extension": ".py",
      "mimetype": "text/x-python",
      "name": "python",
      "nbconvert_exporter": "python",
      "pygments_lexer": "ipython3",
      "version": "3.7.6"
    },
    "colab": {
      "name": "models.ipynb",
      "provenance": [],
      "include_colab_link": true
    },
    "accelerator": "GPU"
  },
  "cells": [
    {
      "cell_type": "markdown",
      "metadata": {
        "id": "view-in-github",
        "colab_type": "text"
      },
      "source": [
        "<a href=\"https://colab.research.google.com/github/nisaruj/Chemception-plus/blob/master/models.ipynb\" target=\"_parent\"><img src=\"https://colab.research.google.com/assets/colab-badge.svg\" alt=\"Open In Colab\"/></a>"
      ]
    },
    {
      "cell_type": "code",
      "metadata": {
        "id": "zUB8DReeLYIT"
      },
      "source": [
        "!pip install -q image-classifiers"
      ],
      "execution_count": null,
      "outputs": []
    },
    {
      "cell_type": "code",
      "metadata": {
        "id": "QPU8nrOWKxol"
      },
      "source": [
        "import datetime\n",
        "import glob\n",
        "import matplotlib.pyplot as plt\n",
        "import numpy as np\n",
        "import os.path\n",
        "import pickle\n",
        "\n",
        "from classification_models.tfkeras import Classifiers\n",
        "from tensorflow.keras import optimizers\n",
        "from tensorflow.keras.callbacks import TensorBoard\n",
        "from tensorflow.keras.layers import GlobalAveragePooling2D, Dense\n",
        "from tensorflow.keras.models import Model\n",
        "from sklearn.metrics import roc_curve, auc\n",
        "\n",
        "connected_to_drive = False"
      ],
      "execution_count": 29,
      "outputs": []
    },
    {
      "cell_type": "code",
      "metadata": {
        "id": "JY_pQ9oZMlNg",
        "outputId": "1d5c0808-1cce-4b90-f169-d2c791af1e81",
        "colab": {
          "base_uri": "https://localhost:8080/"
        }
      },
      "source": [
        "from google.colab import drive\n",
        "\n",
        "drive.mount('drive/')\n",
        "connected_to_drive = True"
      ],
      "execution_count": null,
      "outputs": [
        {
          "output_type": "stream",
          "text": [
            "Drive already mounted at drive/; to attempt to forcibly remount, call drive.mount(\"drive/\", force_remount=True).\n"
          ],
          "name": "stdout"
        }
      ]
    },
    {
      "cell_type": "code",
      "metadata": {
        "id": "H1-h4MHoNiS0",
        "outputId": "b4dfdeec-9719-4969-991e-5184b778ee79",
        "colab": {
          "base_uri": "https://localhost:8080/"
        }
      },
      "source": [
        "!ls drive/My\\ Drive/Projects/bio1/Chemception"
      ],
      "execution_count": null,
      "outputs": [
        {
          "output_type": "stream",
          "text": [
            "split_data.pickle\n"
          ],
          "name": "stdout"
        }
      ]
    },
    {
      "cell_type": "code",
      "metadata": {
        "id": "--jSTd8JJwbg"
      },
      "source": [
        "# Read data\n",
        "\n",
        "if connected_to_drive:\n",
        "    data_path = 'drive/My Drive/Projects/bio1/Chemception/'\n",
        "else:\n",
        "    data_path = 'data/'\n",
        "\n",
        "with open(data_path + 'split_data.pickle', 'rb') as fp:\n",
        "    data = pickle.load(fp)\n",
        "    \n",
        "X_train = data[\"X_train\"]\n",
        "X_test = data[\"X_test\"]\n",
        "y_train = data[\"y_train\"]\n",
        "y_test = data[\"y_test\"]"
      ],
      "execution_count": 18,
      "outputs": []
    },
    {
      "cell_type": "code",
      "metadata": {
        "id": "Mr_P8lsbJwbk"
      },
      "source": [
        "def get_model(model_name, input_shape=(80,80,1)):\n",
        "  ClsModel, preprocess_input = Classifiers.get(model_name)\n",
        "\n",
        "  # X = preprocess_input(X_train)\n",
        "  # Xt = preprocess_input(X_test)\n",
        "\n",
        "  # build model\n",
        "  base_model = ClsModel(input_shape=input_shape, include_top=False)\n",
        "  x = GlobalAveragePooling2D()(base_model.output)\n",
        "  output = Dense(1, activation='sigmoid')(x)\n",
        "  model = Model(inputs=[base_model.input], outputs=[output])\n",
        "  return model"
      ],
      "execution_count": 19,
      "outputs": []
    },
    {
      "cell_type": "code",
      "metadata": {
        "id": "5nKW6qUdJwbm"
      },
      "source": [
        "def benchmark(model, filename='result.pickle', save=True):\n",
        "  y_pred = model.predict(X_test)\n",
        "  fpr, tpr, thresholds = roc_curve(y_test, y_pred)\n",
        "  auc_score = auc(fpr, tpr)\n",
        "  print('AUC:', auc_score)\n",
        "  result = {\n",
        "      \"auc\": auc_score,\n",
        "      \"fpr\": fpr,\n",
        "      \"tpr\": tpr,\n",
        "      \"thresholds\": thresholds\n",
        "  }\n",
        "  if save:\n",
        "    with open(filename, 'wb') as handle:\n",
        "        pickle.dump(result, handle, protocol=pickle.HIGHEST_PROTOCOL)\n",
        "\n",
        "  plt.plot(fpr, tpr)\n",
        "  plt.title(\"ROC Curve (%s)\" % (filename,))\n",
        "  plt.show()"
      ],
      "execution_count": 21,
      "outputs": []
    },
    {
      "cell_type": "markdown",
      "metadata": {
        "id": "fRH8LXwKPrpJ"
      },
      "source": [
        "# Models"
      ]
    },
    {
      "cell_type": "code",
      "metadata": {
        "id": "9CLoP1z4Jwbp"
      },
      "source": [
        "model_list = [\n",
        "    'vgg16',\n",
        "    'vgg19',\n",
        "    'resnet18',\n",
        "    'resnet34',\n",
        "    'resnet50v2',\n",
        "    'resnet101',\n",
        "    'resnet152',\n",
        "    'resnet50v2',\n",
        "    'resnet101v2',\n",
        "    'resnet152v2',\n",
        "    'resnext50',\n",
        "    'resnext101',\n",
        "    'densenet121',\n",
        "    'densenet169',\n",
        "    'densenet201',\n",
        "    'inceptionv3',\n",
        "    'xception',\n",
        "    'inceptionresnetv2',\n",
        "    'seresnet18',\n",
        "    'seresnet34',\n",
        "    'seresnext50',\n",
        "    'seresnet101',\n",
        "    'seresnet152',\n",
        "    'seresnext50',\n",
        "    'seresnext101',\n",
        "    'senet154',\n",
        "    'nasnetlarge',\n",
        "    'nasnetmobile',\n",
        "    'mobilenet',\n",
        "    'mobilenetv2',\n",
        "]\n",
        "\n",
        "RMSprop = optimizers.RMSprop(learning_rate=1E-3, rho=0.9, epsilon=1E-8)\n",
        "lr = optimizers.schedules.ExponentialDecay(1E-3, 1, 0.92, staircase=True)\n",
        "SGD = optimizers.SGD(learning_rate=lr, momentum=0.0)"
      ],
      "execution_count": 22,
      "outputs": []
    },
    {
      "cell_type": "code",
      "metadata": {
        "id": "Z5AQjzqIQLtt",
        "outputId": "19a9a2ae-b256-4a8c-b6b6-b2b7dbbe45e0",
        "colab": {
          "base_uri": "https://localhost:8080/"
        }
      },
      "source": [
        "!mkdir -p logs/\n",
        "!mkdir -p fit/\n",
        "\n",
        "%load_ext tensorboard"
      ],
      "execution_count": 23,
      "outputs": [
        {
          "output_type": "stream",
          "text": [
            "The tensorboard extension is already loaded. To reload it, use:\n",
            "  %reload_ext tensorboard\n"
          ],
          "name": "stdout"
        }
      ]
    },
    {
      "cell_type": "code",
      "metadata": {
        "id": "DdZkibXQJwbs"
      },
      "source": [
        "!mkdir -p models/\n",
        "\n",
        "for filename in glob.glob('models/*.h5'):\n",
        "    print(filename)\n",
        "\n",
        "def train_model(model_name, X_train, y_train, X_test, y_test, input_shape=(80, 80, 1),  batch_size=32, epochs=50):\n",
        "    model_path = 'models/' + model_name + '.h5'\n",
        "    print(model_name, ':', 'model at path', model_path)\n",
        "    \n",
        "    model = get_model(model_name, input_shape)\n",
        "    \n",
        "    log_dir = \"logs/fit/\" + datetime.datetime.now().strftime(\"%Y%m%d-%H%M%S\")\n",
        "    tensorboard_callback = TensorBoard(log_dir=log_dir, histogram_freq=1)\n",
        "\n",
        "    print(model_name, ':', 'compiling /w RMSprop')\n",
        "    model.compile(optimizer=RMSprop, loss='binary_crossentropy', metrics=['accuracy'])\n",
        "    print(model_name, ':', 'fitting /w RMSprop')\n",
        "    model.fit(X_train, y_train, \n",
        "              validation_data=(X_test, y_test), \n",
        "              batch_size=batch_size, \n",
        "              epochs=epochs, \n",
        "              callbacks=[tensorboard_callback])\n",
        "\n",
        "    print(model_name, ':', 'compiling /w SGD')\n",
        "    model.compile(optimizer=SGD, loss='binary_crossentropy', metrics=['accuracy'])\n",
        "    print(model_name, ':', 'fitting /w SGD')\n",
        "    model.fit(X_train, y_train, \n",
        "              validation_data=(X_test, y_test), \n",
        "              batch_size=batch_size, \n",
        "              epochs=epochs, \n",
        "              callbacks=[tensorboard_callback])\n",
        "\n",
        "    model.save(model_path)\n",
        "    print(model_name, ':', 'saved')\n",
        "    \n",
        "    return model"
      ],
      "execution_count": 30,
      "outputs": []
    },
    {
      "cell_type": "markdown",
      "metadata": {
        "id": "krOjRw_xP3Hw"
      },
      "source": [
        "### ResNet18"
      ]
    },
    {
      "cell_type": "code",
      "metadata": {
        "id": "quGd1T2aPi8d"
      },
      "source": [
        "train_model('resnet18', X_train, y_train, X_test, y_test, input_shape=X_train.shape[1:], batch_size=32, epochs=10)"
      ],
      "execution_count": null,
      "outputs": []
    },
    {
      "cell_type": "markdown",
      "metadata": {
        "id": "XNsa3RrDPjsQ"
      },
      "source": [
        "### Inception ResNet v2"
      ]
    },
    {
      "cell_type": "code",
      "metadata": {
        "id": "Eo81mrnDJwbu"
      },
      "source": [
        "resize_method = 'duplicate'\n",
        "\n",
        "ch = 3\n",
        "\n",
        "if resize_method == 'duplicate':\n",
        "    train_shape = tuple(list(X_train.shape[: -1]) + [ch])\n",
        "    X_train_new = np.broadcast_to(X_train, train_shape).copy()\n",
        "    \n",
        "    test_shape = tuple(list(X_test.shape[: -1]) + [ch])\n",
        "    X_test_new = np.broadcast_to(X_test, test_shape).copy()\n",
        "    \n",
        "    print(X_train_new.shape, X_test_new.shape)    \n",
        "\n",
        "train_model('inceptionresnetv2', X_train_new, y_train, X_test_new, y_test, input_shape=X_train_new.shape[1:], batch_size=32, epochs=50)"
      ],
      "execution_count": null,
      "outputs": []
    },
    {
      "cell_type": "code",
      "metadata": {
        "id": "qFnCQk97Jwbw"
      },
      "source": [
        "%tensorboard --logdir logs/fit/ --port 6006 --bind_all"
      ],
      "execution_count": null,
      "outputs": []
    }
  ]
}